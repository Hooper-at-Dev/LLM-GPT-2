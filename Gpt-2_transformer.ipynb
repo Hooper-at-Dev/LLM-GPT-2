{
 "cells": [
  {
   "cell_type": "code",
   "execution_count": 2,
   "id": "4c833869",
   "metadata": {},
   "outputs": [],
   "source": [
    "import torch\n",
    "import torch.nn as nn"
   ]
  },
  {
   "cell_type": "code",
   "execution_count": 3,
   "id": "325eab49",
   "metadata": {},
   "outputs": [],
   "source": [
    "cfg = {\n",
    "    \"vocab_size\": 50257,\n",
    "    \"context_length\": 1024,\n",
    "    \"emb_dim\": 768,\n",
    "    \"n_heads\": 12,\n",
    "    \"n_layers\": 12,\n",
    "    \"drop_rate\": 0.1,\n",
    "    \"qkv_bias\": False\n",
    "}"
   ]
  },
  {
   "cell_type": "code",
   "execution_count": 49,
   "id": "9b4b9d87",
   "metadata": {},
   "outputs": [],
   "source": [
    "class LayerNorm(nn.Module):\n",
    "    def __init__(self, emb_dim):\n",
    "        super().__init__()\n",
    "        self.eps = 1e-5\n",
    "        self.scale = nn.Parameter(torch.ones(emb_dim))\n",
    "        self.shift = nn.Parameter(torch.zeros(emb_dim))\n",
    "    \n",
    "    def forward(self, x):\n",
    "        mean = x.mean(dim=-1, keepdim=True)\n",
    "        var = x.var(dim=-1, keepdim=True)\n",
    "        norm_x = (x-mean)/torch.sqrt(var + self.eps)\n",
    "        return self.scale * norm_x + self.shift"
   ]
  },
  {
   "cell_type": "code",
   "execution_count": 50,
   "id": "cbff6242",
   "metadata": {},
   "outputs": [],
   "source": [
    "class Feed_Forward(nn.Module):\n",
    "    def __init__(self, cfg):\n",
    "        super().__init__()\n",
    "        self.layers = nn.Sequential(\n",
    "            nn.Linear(cfg[\"emb_dim\"], cfg[\"emb_dim\"]*4),\n",
    "            nn.GELU(),\n",
    "            nn.Linear(cfg[\"emb_dim\"]*4, cfg[\"emb_dim\"])\n",
    "        )\n",
    "    def forward(self, x):\n",
    "        return self.layers(x)"
   ]
  },
  {
   "cell_type": "code",
   "execution_count": 51,
   "id": "a07abc07",
   "metadata": {},
   "outputs": [],
   "source": [
    "class MultiHead_Attention(nn.Module):\n",
    "    def __init__(self,d_in,\n",
    "                 d_out,\n",
    "                 num_head,\n",
    "                 dropout,\n",
    "                 context_length,\n",
    "                 bias=False):\n",
    "        super().__init__()\n",
    "        self.W_Query = nn.Linear(d_in, d_out, bias=bias)\n",
    "        self.W_Key = nn.Linear(d_in, d_out, bias=bias)\n",
    "        self.W_Value = nn.Linear(d_in, d_out, bias=bias)\n",
    "        self.dropout = nn.Dropout(dropout)\n",
    "        self.num_head = num_head\n",
    "        self.head_dim = d_out//num_head\n",
    "        self.d_out = d_out\n",
    "        self.out_project = nn.Linear(d_out, d_out)\n",
    "\n",
    "        self. register_buffer(\"mask\", torch.triu(torch.ones(context_length, context_length), diagonal=1))\n",
    "\n",
    "    def forward(self, x):\n",
    "        b, num_tokens, d_in = x.shape\n",
    "\n",
    "        keys = self.W_Key(x)\n",
    "        query = self.W_Query(x)\n",
    "        value = self.W_Value(x)\n",
    "\n",
    "        keys = keys.view(b, num_tokens, self.num_head, self.head_dim).transpose(1,2)\n",
    "        query = query.view(b, num_tokens, self.num_head, self.head_dim).transpose(1,2)\n",
    "        value = value.view(b, num_tokens, self.num_head, self.head_dim).transpose(1,2)\n",
    "        \n",
    "        att_score = query @ keys.transpose(2,3)\n",
    "        mask_bool = self.mask.bool()[:num_tokens, :num_tokens]\n",
    "        att_score.masked_fill_(mask_bool,-torch.inf)\n",
    "\n",
    "        att_weight = torch.softmax(att_score/keys.shape[-1]**0.5, dim=-1)\n",
    "        att_weight = self.dropout(att_weight)\n",
    "        \n",
    "        context_vec = (att_weight @ value).transpose(1, 2)\n",
    "        context_vec = context_vec.contiguous().view(b, num_tokens, d_in)\n",
    "        context_vec = self.out_project(context_vec)\n",
    "        return context_vec"
   ]
  },
  {
   "cell_type": "code",
   "execution_count": 52,
   "id": "ea01b3c2",
   "metadata": {},
   "outputs": [],
   "source": [
    "class TransformerBlock(nn.Module):\n",
    "    def __init__(self, cfg):\n",
    "        super().__init__()\n",
    "\n",
    "        self.att = MultiHead_Attention(d_in=cfg['emb_dim'],\n",
    "                                       d_out=cfg['emb_dim'],\n",
    "                                       num_head=cfg['n_heads'],\n",
    "                                       dropout=cfg['drop_rate'],\n",
    "                                       context_length=cfg['context_length'],\n",
    "                                       bias=cfg['qkv_bias']\n",
    "                                       )\n",
    "        self.feed_forward = Feed_Forward(cfg=cfg)\n",
    "        self.norm1 = LayerNorm(emb_dim=cfg['emb_dim'])\n",
    "        self.norm2 = LayerNorm(emb_dim=cfg['emb_dim']) \n",
    "        self.shortcut_drop = nn.Dropout(cfg['drop_rate'])\n",
    "\n",
    "    def forward(self, x):\n",
    "        shortcut = x\n",
    "        x = self.norm1(x)\n",
    "        x = self.att(x)\n",
    "        x = self.shortcut_drop(x)\n",
    "        x = x + shortcut\n",
    "\n",
    "        shortcut = x\n",
    "\n",
    "        x = self.norm2(x)\n",
    "        x = self.feed_forward(x)\n",
    "        x = self.shortcut_drop(x)\n",
    "        x = x + shortcut\n",
    "\n",
    "        return x"
   ]
  },
  {
   "cell_type": "code",
   "execution_count": 55,
   "id": "06b23473",
   "metadata": {},
   "outputs": [
    {
     "name": "stdout",
     "output_type": "stream",
     "text": [
      "Input: torch.Size([2, 4, 768])\n",
      "Output: torch.Size([2, 4, 768])\n"
     ]
    }
   ],
   "source": [
    "torch.manual_seed(42)\n",
    "x = torch.randn(2,4,768)\n",
    "transformer = TransformerBlock(cfg=cfg)\n",
    "print(f\"Input: {x.shape}\\nOutput: {transformer(x).shape}\")\n"
   ]
  }
 ],
 "metadata": {
  "kernelspec": {
   "display_name": "pyTorch",
   "language": "python",
   "name": "python3"
  },
  "language_info": {
   "codemirror_mode": {
    "name": "ipython",
    "version": 3
   },
   "file_extension": ".py",
   "mimetype": "text/x-python",
   "name": "python",
   "nbconvert_exporter": "python",
   "pygments_lexer": "ipython3",
   "version": "3.10.18"
  }
 },
 "nbformat": 4,
 "nbformat_minor": 5
}
