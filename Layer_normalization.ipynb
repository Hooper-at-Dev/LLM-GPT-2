{
 "cells": [
  {
   "cell_type": "code",
   "execution_count": 1,
   "id": "0ab9c1be",
   "metadata": {},
   "outputs": [],
   "source": [
    "import torch \n",
    "import torch.nn as nn"
   ]
  },
  {
   "cell_type": "code",
   "execution_count": 2,
   "id": "16f719cc",
   "metadata": {},
   "outputs": [],
   "source": [
    "class Layer_Normalization(nn.Module):\n",
    "    def __init__(self, emb_dim):\n",
    "        super().__init__()\n",
    "        \n",
    "        self.eps = 1e-5\n",
    "        self.scale = nn.Parameter(torch.ones(emb_dim))\n",
    "        self.shift = nn.Parameter(torch.zeros(emb_dim))\n",
    "\n",
    "    def forward(self, x):\n",
    "        x_mean = x.mean(dim=-1, keepdim=True)\n",
    "        x_var = x.var(dim=-1, keepdim=True, unbiased=False)\n",
    "        x_norm = (x-x_mean)/torch.sqrt(x_var+self.eps)\n",
    "        return self.scale*x_norm + self.shift"
   ]
  },
  {
   "cell_type": "code",
   "execution_count": 3,
   "id": "2282bd59",
   "metadata": {},
   "outputs": [
    {
     "data": {
      "text/plain": [
       "tensor([[-0.1115,  0.1204, -0.3696, -0.2404, -1.1969],\n",
       "        [ 0.2093, -0.9724, -0.7550,  0.3239, -0.1085]])"
      ]
     },
     "execution_count": 3,
     "metadata": {},
     "output_type": "execute_result"
    }
   ],
   "source": [
    "torch.manual_seed(123)\n",
    "batch_eg = torch.randn(2,5)\n",
    "batch_eg"
   ]
  },
  {
   "cell_type": "code",
   "execution_count": 4,
   "id": "2bedd4df",
   "metadata": {},
   "outputs": [
    {
     "name": "stdout",
     "output_type": "stream",
     "text": [
      "Mean:\n",
      "tensor([[-2.9802e-08],\n",
      "        [ 0.0000e+00]], grad_fn=<MeanBackward1>)\n",
      "Varience:\n",
      "tensor([[1.0000],\n",
      "        [1.0000]], grad_fn=<VarBackward0>)\n"
     ]
    }
   ],
   "source": [
    "ln = Layer_Normalization(emb_dim=5)\n",
    "output = ln(batch_eg)\n",
    "mean = output.mean(dim=-1, keepdim=True)\n",
    "var = output.var(dim=-1, keepdim=True, unbiased=False)\n",
    "print(f\"Mean:\\n{mean}\\nVarience:\\n{var}\")"
   ]
  }
 ],
 "metadata": {
  "kernelspec": {
   "display_name": "pyTorch",
   "language": "python",
   "name": "python3"
  },
  "language_info": {
   "codemirror_mode": {
    "name": "ipython",
    "version": 3
   },
   "file_extension": ".py",
   "mimetype": "text/x-python",
   "name": "python",
   "nbconvert_exporter": "python",
   "pygments_lexer": "ipython3",
   "version": "3.10.18"
  }
 },
 "nbformat": 4,
 "nbformat_minor": 5
}
