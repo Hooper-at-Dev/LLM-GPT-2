{
 "cells": [
  {
   "cell_type": "code",
   "execution_count": null,
   "id": "c52ca78a",
   "metadata": {},
   "outputs": [],
   "source": [
    "class MultiHeadAttention(nn.Module):\n",
    "    def __init__(self,d_in,\n",
    "                 d_out,\n",
    "                 context_length,\n",
    "                 dropout,\n",
    "                 num_heads,\n",
    "                 bias=False):\n",
    "        super().__init__()\n",
    "\n",
    "        self.W_Query  = nn.Linear(d_in, d_out, bias=bias)\n",
    "        self.W_Key    = nn.Linear(d_in, d_out, bias=bias)\n",
    "        self.W_Value  = nn.Linear(d_in, d_out, bias=bias)\n",
    "        self.out_proj = nn.Linear(d_out, d_out)\n",
    "        self.d_out    = d_out\n",
    "        self.num_head = num_heads\n",
    "        self.head_dim = d_out//num_heads\n",
    "        self.dropout  = nn.Dropout(dropout)\n",
    "        \n",
    "        self.register_buffer('mask',\n",
    "                             torch.triu(torch.ones(context_length,context_length),\n",
    "                                        diagonal=1))\n",
    "        \n",
    "    def forward(self, x):\n",
    "        b, num_tokens, d_in = x.shape\n",
    "\n",
    "        keys    = self.W_Key(x)\n",
    "        queries = self.W_Query(x)\n",
    "        values  = self.W_Value(x)\n",
    "\n",
    "        keys    = keys.view(b, num_tokens, self.num_head, self.head_dim)\n",
    "        queries = queries.view(b, num_tokens, self.num_head, self.head_dim)\n",
    "        values  = values.view(b, num_tokens, self.num_head, self.head_dim)\n",
    "\n",
    "        keys    = keys.transpose(1,2)\n",
    "        queries = queries.transpose(1,2)\n",
    "        values  = values.transpose(1,2)\n",
    "\n",
    "        att_score = queries @ keys.transpose(2,3)\n",
    "\n",
    "        mask_bool = self.mask.bool()[:num_tokens, :num_tokens]\n",
    "        att_score.masked_fill_(mask_bool, -torch.inf)\n",
    "\n",
    "        att_weights = torch.softmax(att_score / keys.shape[-1]**0.5, dim=-1)\n",
    "        att_weights = self.dropout(att_weights)\n",
    "\n",
    "        context_vec = (att_weights @ values).transpose(1, 2)\n",
    "        context_vec = context_vec.contiguous().view(b, num_tokens, self.d_out)\n",
    "        context_vec = self.out_proj(context_vec)\n",
    "        return context_vec"
   ]
  },
  {
   "cell_type": "code",
   "execution_count": null,
   "id": "3e9521f1",
   "metadata": {},
   "outputs": [],
   "source": [
    "inputs = torch.tensor(\n",
    "  [[0.43, 0.15, 0.89], # Your     (x^1)\n",
    "   [0.55, 0.87, 0.66], # journey  (x^2)\n",
    "   [0.57, 0.85, 0.64], # starts   (x^3)\n",
    "   [0.22, 0.58, 0.33], # with     (x^4)\n",
    "   [0.77, 0.25, 0.10], # one      (x^5)\n",
    "   [0.05, 0.80, 0.55], # step     (x^6)\n",
    "   [0.4419, 0.6515, 0.5683]]\n",
    ")\n",
    "batch = torch.stack((inputs, inputs), dim=0)\n",
    "batch.shape"
   ]
  },
  {
   "cell_type": "code",
   "execution_count": null,
   "id": "56ebd4af",
   "metadata": {},
   "outputs": [],
   "source": [
    "d_in = 3\n",
    "d_out = 6\n",
    "context_length = 7\n",
    "torch.manual_seed(42)\n",
    "MUA = MultiHeadAttention(d_in, d_out, context_length, 0, 2, False)"
   ]
  }
 ],
 "metadata": {
  "language_info": {
   "name": "python"
  }
 },
 "nbformat": 4,
 "nbformat_minor": 5
}
