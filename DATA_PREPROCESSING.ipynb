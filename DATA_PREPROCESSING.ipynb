{
 "cells": [
  {
   "cell_type": "code",
   "execution_count": 2,
   "id": "dbd36ee6",
   "metadata": {},
   "outputs": [],
   "source": [
    "import tiktoken\n",
    "from torch.utils.data import DataLoader, Dataset\n",
    "import torch\n",
    "import torch.nn as nn"
   ]
  },
  {
   "cell_type": "code",
   "execution_count": 3,
   "id": "1ff1f9ff",
   "metadata": {},
   "outputs": [
    {
     "name": "stdout",
     "output_type": "stream",
     "text": [
      "I HAD always thought Jack Gisburn rather a cheap genius--though a good fellow enough--so it was no \n"
     ]
    }
   ],
   "source": [
    "DIR = \"DATA/the-verdict.txt\"\n",
    "with open(DIR, \"r\", encoding=\"utf-8\") as f:\n",
    "    raw_data = f.read()\n",
    "print(raw_data[:99])"
   ]
  },
  {
   "cell_type": "code",
   "execution_count": 23,
   "id": "9b3ea6ba",
   "metadata": {},
   "outputs": [],
   "source": [
    "class DatasetV1(Dataset):\n",
    "    def __init__(self, txt, tokenizer, max_len, stride):\n",
    "        super().__init__()\n",
    "        self.input_idx = []\n",
    "        self.target_idx = []\n",
    "\n",
    "        token_ids = tokenizer.encode(txt, allowed_special={\"<|endoftext|>\"})\n",
    "\n",
    "        for i in range(0, len(token_ids) - max_len, stride):\n",
    "            input_chunk = token_ids[i: i+max_len]\n",
    "            target_chunk = token_ids[i+1:i+max_len+1]\n",
    "\n",
    "            self.input_idx.append(torch.tensor(input_chunk))\n",
    "            self.target_idx.append(torch.tensor(target_chunk))\n",
    "    \n",
    "    def __len__(self):\n",
    "        return len(self.input_idx)\n",
    "    \n",
    "    def __getitem__(self,idx):\n",
    "        return self.input_idx[idx], self.target_idx[idx]"
   ]
  },
  {
   "cell_type": "code",
   "execution_count": 5,
   "id": "cc3a7161",
   "metadata": {},
   "outputs": [],
   "source": [
    "def crete_data_loader(txt, max_len, stride,\n",
    "                      batch_size=1,shuffle=True,drop_last=True, num_workers=0):\n",
    "    tokenizer = tiktoken.get_encoding(\"gpt2\")\n",
    "    data_set = DatasetV1(txt,\n",
    "                         tokenizer,\n",
    "                         max_len,\n",
    "                         stride)\n",
    "    dataloader = DataLoader(dataset=data_set,\n",
    "                            batch_size=batch_size,\n",
    "                            shuffle=shuffle,\n",
    "                            drop_last=drop_last,\n",
    "                            num_workers=num_workers)\n",
    "    return dataloader"
   ]
  },
  {
   "cell_type": "code",
   "execution_count": 6,
   "id": "6558e9ed",
   "metadata": {},
   "outputs": [],
   "source": [
    "vocab_size = 50257\n",
    "embedding_dim = 256\n",
    "token_embedding_layer = nn.Embedding(vocab_size, embedding_dim)"
   ]
  },
  {
   "cell_type": "code",
   "execution_count": 7,
   "id": "3231a222",
   "metadata": {},
   "outputs": [],
   "source": [
    "dataloader = crete_data_loader(txt=raw_data, max_len=4, stride=4, batch_size=8,shuffle=False)"
   ]
  },
  {
   "cell_type": "code",
   "execution_count": 8,
   "id": "96f6ae72",
   "metadata": {},
   "outputs": [
    {
     "name": "stdout",
     "output_type": "stream",
     "text": [
      "INPUT:\n",
      "tensor([[   40,   367,  2885,  1464],\n",
      "        [ 1807,  3619,   402,   271],\n",
      "        [10899,  2138,   257,  7026],\n",
      "        [15632,   438,  2016,   257],\n",
      "        [  922,  5891,  1576,   438],\n",
      "        [  568,   340,   373,   645],\n",
      "        [ 1049,  5975,   284,   502],\n",
      "        [  284,  3285,   326,    11]])\n",
      "OUTPUT:\n",
      "tensor([[  367,  2885,  1464,  1807],\n",
      "        [ 3619,   402,   271, 10899],\n",
      "        [ 2138,   257,  7026, 15632],\n",
      "        [  438,  2016,   257,   922],\n",
      "        [ 5891,  1576,   438,   568],\n",
      "        [  340,   373,   645,  1049],\n",
      "        [ 5975,   284,   502,   284],\n",
      "        [ 3285,   326,    11,   287]])\n"
     ]
    }
   ],
   "source": [
    "data_itr = iter(dataloader)\n",
    "data_batch_1 = next(data_itr)\n",
    "inputs,targets = data_batch_1\n",
    "print(f\"INPUT:\\n{inputs}\\nOUTPUT:\\n{targets}\")"
   ]
  },
  {
   "cell_type": "code",
   "execution_count": 9,
   "id": "d8f4da6c",
   "metadata": {},
   "outputs": [
    {
     "name": "stdout",
     "output_type": "stream",
     "text": [
      "tensor([[-0.3288,  0.3586,  0.7055,  ..., -1.5553, -0.1219,  1.2151],\n",
      "        [ 0.9036,  0.0782, -0.9076,  ..., -0.9605,  1.3519, -1.3649],\n",
      "        [-0.5587, -0.6353, -2.0324,  ..., -2.3393, -1.3733,  0.2610],\n",
      "        [-1.8043,  1.3405,  0.5743,  ..., -0.5202,  1.0497,  0.1272]],\n",
      "       grad_fn=<SelectBackward0>)\n"
     ]
    }
   ],
   "source": [
    "token_embeddings = token_embedding_layer(inputs)\n",
    "print(token_embeddings[0])"
   ]
  },
  {
   "cell_type": "code",
   "execution_count": 10,
   "id": "a64d9a84",
   "metadata": {},
   "outputs": [
    {
     "data": {
      "text/plain": [
       "torch.Size([4, 256])"
      ]
     },
     "execution_count": 10,
     "metadata": {},
     "output_type": "execute_result"
    }
   ],
   "source": [
    "pos_embedding_layer = nn.Embedding(4, embedding_dim)\n",
    "\n",
    "pos_embeddings = pos_embedding_layer(torch.arange(4))\n",
    "pos_embeddings.shape"
   ]
  },
  {
   "cell_type": "code",
   "execution_count": 11,
   "id": "fe8d57ab",
   "metadata": {},
   "outputs": [
    {
     "data": {
      "text/plain": [
       "torch.Size([8, 4, 256])"
      ]
     },
     "execution_count": 11,
     "metadata": {},
     "output_type": "execute_result"
    }
   ],
   "source": [
    "input_embeddings = token_embeddings + pos_embeddings\n",
    "input_embeddings.shape"
   ]
  }
 ],
 "metadata": {
  "kernelspec": {
   "display_name": "pyTorch",
   "language": "python",
   "name": "python3"
  },
  "language_info": {
   "codemirror_mode": {
    "name": "ipython",
    "version": 3
   },
   "file_extension": ".py",
   "mimetype": "text/x-python",
   "name": "python",
   "nbconvert_exporter": "python",
   "pygments_lexer": "ipython3",
   "version": "3.10.18"
  }
 },
 "nbformat": 4,
 "nbformat_minor": 5
}
