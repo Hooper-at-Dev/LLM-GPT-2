{
 "cells": [
  {
   "cell_type": "code",
   "execution_count": 1,
   "id": "4c833869",
   "metadata": {},
   "outputs": [],
   "source": [
    "import torch\n",
    "import torch.nn as nn\n",
    "import tiktoken\n",
    "import os\n",
    "from torch.utils.data import DataLoader, Dataset"
   ]
  },
  {
   "cell_type": "code",
   "execution_count": 2,
   "id": "edeb83ca",
   "metadata": {},
   "outputs": [],
   "source": [
    "tokenizer = tiktoken.get_encoding(\"gpt2\")"
   ]
  },
  {
   "cell_type": "code",
   "execution_count": 3,
   "id": "325eab49",
   "metadata": {},
   "outputs": [],
   "source": [
    "cfg = {\n",
    "    \"vocab_size\": 50257,\n",
    "    \"context_length\": 256,\n",
    "    \"emb_dim\": 768,\n",
    "    \"n_heads\": 12,\n",
    "    \"n_layers\": 12,\n",
    "    \"drop_rate\": 0.1,\n",
    "    \"qkv_bias\": False\n",
    "}"
   ]
  },
  {
   "cell_type": "code",
   "execution_count": 4,
   "id": "9b4b9d87",
   "metadata": {},
   "outputs": [],
   "source": [
    "class LayerNorm(nn.Module):\n",
    "    def __init__(self, emb_dim):\n",
    "        super().__init__()\n",
    "        self.eps = 1e-5\n",
    "        self.scale = nn.Parameter(torch.ones(emb_dim))\n",
    "        self.shift = nn.Parameter(torch.zeros(emb_dim))\n",
    "    \n",
    "    def forward(self, x):\n",
    "        mean = x.mean(dim=-1, keepdim=True)\n",
    "        var = x.var(dim=-1, keepdim=True)\n",
    "        norm_x = (x-mean)/torch.sqrt(var + self.eps)\n",
    "        return self.scale * norm_x + self.shift"
   ]
  },
  {
   "cell_type": "code",
   "execution_count": 5,
   "id": "cbff6242",
   "metadata": {},
   "outputs": [],
   "source": [
    "class Feed_Forward(nn.Module):\n",
    "    def __init__(self, cfg):\n",
    "        super().__init__()\n",
    "        self.layers = nn.Sequential(\n",
    "            nn.Linear(cfg[\"emb_dim\"], cfg[\"emb_dim\"]*4),\n",
    "            nn.GELU(),\n",
    "            nn.Linear(cfg[\"emb_dim\"]*4, cfg[\"emb_dim\"])\n",
    "        )\n",
    "    def forward(self, x):\n",
    "        return self.layers(x)"
   ]
  },
  {
   "cell_type": "code",
   "execution_count": 6,
   "id": "a07abc07",
   "metadata": {},
   "outputs": [],
   "source": [
    "class MultiHead_Attention(nn.Module):\n",
    "    def __init__(self,d_in,\n",
    "                 d_out,\n",
    "                 num_head,\n",
    "                 dropout,\n",
    "                 context_length,\n",
    "                 bias=False):\n",
    "        super().__init__()\n",
    "        self.W_Query = nn.Linear(d_in, d_out, bias=bias)\n",
    "        self.W_Key = nn.Linear(d_in, d_out, bias=bias)\n",
    "        self.W_Value = nn.Linear(d_in, d_out, bias=bias)\n",
    "        self.dropout = nn.Dropout(dropout)\n",
    "        self.num_head = num_head\n",
    "        self.head_dim = d_out//num_head\n",
    "        self.d_out = d_out\n",
    "        self.out_project = nn.Linear(d_out, d_out)\n",
    "\n",
    "        self. register_buffer(\"mask\", torch.triu(torch.ones(context_length, context_length), diagonal=1))\n",
    "\n",
    "    def forward(self, x):\n",
    "        b, num_tokens, d_in = x.shape\n",
    "\n",
    "        keys = self.W_Key(x)\n",
    "        query = self.W_Query(x)\n",
    "        value = self.W_Value(x)\n",
    "\n",
    "        keys = keys.view(b, num_tokens, self.num_head, self.head_dim).transpose(1,2)\n",
    "        query = query.view(b, num_tokens, self.num_head, self.head_dim).transpose(1,2)\n",
    "        value = value.view(b, num_tokens, self.num_head, self.head_dim).transpose(1,2)\n",
    "        \n",
    "        att_score = query @ keys.transpose(2,3)\n",
    "        mask_bool = self.mask.bool()[:num_tokens, :num_tokens]\n",
    "        att_score.masked_fill_(mask_bool,-torch.inf)\n",
    "\n",
    "        att_weight = torch.softmax(att_score/keys.shape[-1]**0.5, dim=-1)\n",
    "        att_weight = self.dropout(att_weight)\n",
    "        \n",
    "        context_vec = (att_weight @ value).transpose(1, 2)\n",
    "        context_vec = context_vec.contiguous().view(b, num_tokens, d_in)\n",
    "        context_vec = self.out_project(context_vec)\n",
    "        return context_vec"
   ]
  },
  {
   "cell_type": "code",
   "execution_count": 7,
   "id": "ea01b3c2",
   "metadata": {},
   "outputs": [],
   "source": [
    "class TransformerBlock(nn.Module):\n",
    "    def __init__(self, cfg):\n",
    "        super().__init__()\n",
    "\n",
    "        self.att = MultiHead_Attention(d_in=cfg['emb_dim'],\n",
    "                                       d_out=cfg['emb_dim'],\n",
    "                                       num_head=cfg['n_heads'],\n",
    "                                       dropout=cfg['drop_rate'],\n",
    "                                       context_length=cfg['context_length'],\n",
    "                                       bias=cfg['qkv_bias']\n",
    "                                       )\n",
    "        self.feed_forward = Feed_Forward(cfg=cfg)\n",
    "        self.norm1 = LayerNorm(emb_dim=cfg['emb_dim'])\n",
    "        self.norm2 = LayerNorm(emb_dim=cfg['emb_dim']) \n",
    "        self.shortcut_drop = nn.Dropout(cfg['drop_rate'])\n",
    "\n",
    "    def forward(self, x):\n",
    "        shortcut = x\n",
    "        x = self.norm1(x)\n",
    "        x = self.att(x)\n",
    "        x = self.shortcut_drop(x)\n",
    "        x = x + shortcut\n",
    "\n",
    "        shortcut = x\n",
    "\n",
    "        x = self.norm2(x)\n",
    "        x = self.feed_forward(x)\n",
    "        x = self.shortcut_drop(x)\n",
    "        x = x + shortcut\n",
    "\n",
    "        return x"
   ]
  },
  {
   "cell_type": "code",
   "execution_count": 8,
   "id": "06b23473",
   "metadata": {},
   "outputs": [
    {
     "name": "stdout",
     "output_type": "stream",
     "text": [
      "Input: torch.Size([2, 4, 768])\n",
      "Output: torch.Size([2, 4, 768])\n"
     ]
    }
   ],
   "source": [
    "torch.manual_seed(42)\n",
    "x = torch.randn(2,4,768)\n",
    "transformer = TransformerBlock(cfg=cfg)\n",
    "print(f\"Input: {x.shape}\\nOutput: {transformer(x).shape}\")\n"
   ]
  },
  {
   "cell_type": "code",
   "execution_count": 9,
   "id": "6c44b297",
   "metadata": {},
   "outputs": [
    {
     "name": "stdout",
     "output_type": "stream",
     "text": [
      "Embedding weight shape: torch.Size([10, 10])\n",
      "Tokens: tensor([0, 1, 2, 3])\n",
      "Output shape: \n",
      "tensor([[ 1.9269,  1.4873,  0.9007, -2.1055,  0.6784, -1.2345, -0.0431, -1.6047,\n",
      "         -0.7521,  1.6487],\n",
      "        [-0.3925, -1.4036, -0.7279, -0.5594, -0.7688,  0.7624,  1.6423, -0.1596,\n",
      "         -0.4974,  0.4396],\n",
      "        [-0.7581,  1.0783,  0.8008,  1.6806,  1.2791,  1.2964,  0.6105,  1.3347,\n",
      "         -0.2316,  0.0418],\n",
      "        [-0.2516,  0.8599, -1.3847, -0.8712, -0.2234,  1.7174,  0.3189, -0.4245,\n",
      "          0.3057, -0.7746]], grad_fn=<EmbeddingBackward0>)\n"
     ]
    }
   ],
   "source": [
    "torch.manual_seed(42)\n",
    "emb = nn.Embedding(num_embeddings=10, embedding_dim=10)\n",
    "\n",
    "print(\"Embedding weight shape:\", emb.weight.shape)  # (10, 3)\n",
    "\n",
    "tokens = torch.tensor([0, 1, 2, 3])\n",
    "out = emb(tokens)\n",
    "\n",
    "print(\"Tokens:\", tokens)\n",
    "print(f\"Output shape: \\n{out}\")  # (4, 3)\n"
   ]
  },
  {
   "cell_type": "code",
   "execution_count": 10,
   "id": "1c3ad0d2",
   "metadata": {},
   "outputs": [],
   "source": [
    "class GPT_Model(nn.Module):\n",
    "    def __init__(self, cfg):\n",
    "        super().__init__()\n",
    "        self.tok_emb = nn.Embedding(cfg['vocab_size'], cfg['emb_dim'])\n",
    "        self.pos_emb = nn.Embedding(cfg['context_length'], cfg['emb_dim'])\n",
    "        self.drop_emb = nn.Dropout(cfg['drop_rate'])\n",
    "\n",
    "        self.trf_block = nn.Sequential(\n",
    "            *[TransformerBlock(cfg) for _ in range(cfg['n_layers'])]\n",
    "        )\n",
    "\n",
    "        self.final_norm = LayerNorm(emb_dim=cfg['emb_dim'])\n",
    "        self.out_head = nn.Linear(\n",
    "            cfg['emb_dim'], cfg['vocab_size'], bias=False\n",
    "        )\n",
    "\n",
    "    def forward(self, in_idx):\n",
    "        batch_size, seq_length = in_idx.shape\n",
    "        tok_embeds = self.tok_emb(in_idx)\n",
    "        pos_embeds = self.pos_emb(torch.arange(seq_length, device=in_idx.device))\n",
    "        x = pos_embeds + tok_embeds\n",
    "        x = self.drop_emb(x)\n",
    "        x = self.trf_block(x)\n",
    "        x = self.final_norm(x)\n",
    "        logits = self.out_head(x)\n",
    "        \n",
    "        return logits"
   ]
  },
  {
   "cell_type": "code",
   "execution_count": 11,
   "id": "babe45f1",
   "metadata": {},
   "outputs": [
    {
     "data": {
      "text/plain": [
       "tensor([[123, 465, 789, 120],\n",
       "        [123, 465, 789, 120]])"
      ]
     },
     "execution_count": 11,
     "metadata": {},
     "output_type": "execute_result"
    }
   ],
   "source": [
    "torch.manual_seed(42)\n",
    "inputs = torch.tensor(\n",
    "  [123, 465, 789, 120])\n",
    "batch = torch.stack((inputs, inputs), dim=0)\n",
    "batch"
   ]
  },
  {
   "cell_type": "code",
   "execution_count": 12,
   "id": "7e46167a",
   "metadata": {},
   "outputs": [
    {
     "data": {
      "text/plain": [
       "torch.Size([2, 4, 50257])"
      ]
     },
     "execution_count": 12,
     "metadata": {},
     "output_type": "execute_result"
    }
   ],
   "source": [
    "model = GPT_Model(cfg=cfg)\n",
    "a = model(batch)\n",
    "a.shape"
   ]
  },
  {
   "cell_type": "code",
   "execution_count": 13,
   "id": "1adfa0d1",
   "metadata": {},
   "outputs": [
    {
     "name": "stdout",
     "output_type": "stream",
     "text": [
      "Total Number of parameters: 162,419,712\n"
     ]
    }
   ],
   "source": [
    "total_params = sum(p.numel() for p in model.parameters())\n",
    "print(f\"Total Number of parameters: {total_params:,}\")"
   ]
  },
  {
   "cell_type": "code",
   "execution_count": 14,
   "id": "b105c64e",
   "metadata": {},
   "outputs": [
    {
     "name": "stdout",
     "output_type": "stream",
     "text": [
      "Total size of the model: 619.58 MB\n"
     ]
    }
   ],
   "source": [
    "total_size_bytes = total_params * 4 #A\n",
    "total_size_mb = total_size_bytes / (1024 * 1024) #B\n",
    "print(f\"Total size of the model: {total_size_mb:.2f} MB\")"
   ]
  },
  {
   "cell_type": "markdown",
   "id": "c541a9a5",
   "metadata": {},
   "source": [
    "# Generating Text"
   ]
  },
  {
   "cell_type": "code",
   "execution_count": null,
   "id": "5d6ec815",
   "metadata": {},
   "outputs": [],
   "source": [
    "def Generate_Text(model, idx, max_tokens, context_size):\n",
    "    for _ in range(max_tokens):\n",
    "        idx_cond = idx[:, -context_size:]\n",
    "        with torch.inference_mode():\n",
    "            logits = model(idx_cond)\n",
    "\n",
    "            logits = logits[:, -1, :]\n",
    "            probs = torch.softmax(logits, dim=-1)\n",
    "            next_idx = torch.argmax(probs, dim=-1, keepdim=True)\n",
    "            idx = torch.cat((idx, next_idx), dim=-1)\n",
    "    return idx"
   ]
  },
  {
   "cell_type": "code",
   "execution_count": null,
   "id": "4eac5245",
   "metadata": {},
   "outputs": [],
   "source": [
    "start_context = \"what is there\"\n",
    "encoded = tokenizer.encode(start_context)\n",
    "encoded_tensor = torch.tensor(encoded).unsqueeze(dim=0)\n",
    "print(encoded_tensor.shape)"
   ]
  },
  {
   "cell_type": "code",
   "execution_count": null,
   "id": "002b7a29",
   "metadata": {},
   "outputs": [],
   "source": [
    "model.eval() #A\n",
    "out = Generate_Text(\n",
    "model=model,\n",
    "idx=encoded_tensor,\n",
    "max_tokens=50,\n",
    "context_size=cfg[\"context_length\"]\n",
    ")\n",
    "print(\"Output:\", out)\n",
    "print(\"Output length:\", len(out[0]))"
   ]
  },
  {
   "cell_type": "code",
   "execution_count": null,
   "id": "3cd5672f",
   "metadata": {},
   "outputs": [],
   "source": [
    "decoded_text = tokenizer.decode(out.squeeze(0).tolist())\n",
    "print(decoded_text)"
   ]
  },
  {
   "cell_type": "markdown",
   "id": "e03a8212",
   "metadata": {},
   "source": [
    "# loss calculation"
   ]
  },
  {
   "cell_type": "code",
   "execution_count": null,
   "id": "921bbf8c",
   "metadata": {},
   "outputs": [],
   "source": [
    "inputs = torch.tensor([[16899, 3626, 6100],\n",
    "                       [40, 1107, 588]])\n",
    "\n",
    "targets = torch.tensor([[3626, 6100, 345],\n",
    "                        [1107, 588, 11311]])"
   ]
  },
  {
   "cell_type": "code",
   "execution_count": null,
   "id": "dad6f033",
   "metadata": {},
   "outputs": [],
   "source": [
    "targets[0]"
   ]
  },
  {
   "cell_type": "code",
   "execution_count": null,
   "id": "d0554a99",
   "metadata": {},
   "outputs": [],
   "source": [
    "torch.manual_seed(42)\n",
    "model.eval()\n",
    "with torch.inference_mode():\n",
    "    logits = model(inputs)\n",
    "probs = torch.softmax(logits, dim=-1)\n",
    "print(f\"Logits: {probs}\")"
   ]
  },
  {
   "cell_type": "code",
   "execution_count": null,
   "id": "dc4b9b8e",
   "metadata": {},
   "outputs": [],
   "source": [
    "outputs = torch.argmax(probs, dim=-1, keepdim=True)\n",
    "outputs"
   ]
  },
  {
   "cell_type": "code",
   "execution_count": null,
   "id": "cee81869",
   "metadata": {},
   "outputs": [],
   "source": [
    "def token_to_text(tok_ids, tokenizer):\n",
    "    flatn = tok_ids.squeeze(0)\n",
    "    return tokenizer.decode(flatn.tolist())\n"
   ]
  },
  {
   "cell_type": "code",
   "execution_count": null,
   "id": "3bdb5e19",
   "metadata": {},
   "outputs": [],
   "source": [
    "token_to_text(outputs[0].flatten(), tokenizer)"
   ]
  },
  {
   "cell_type": "code",
   "execution_count": null,
   "id": "f005ce40",
   "metadata": {},
   "outputs": [],
   "source": [
    "batch = 0\n",
    "prob_target_1 = probs[batch, [0,1,2], targets[batch]]\n",
    "prob_target_2 = probs[batch+1, [0,1,2], targets[batch+1]]\n",
    "log_prob = torch.log(torch.cat((prob_target_1, prob_target_2)))\n",
    "log_prob"
   ]
  },
  {
   "cell_type": "code",
   "execution_count": null,
   "id": "c209e752",
   "metadata": {},
   "outputs": [],
   "source": [
    "log_avg = torch.mean(log_prob)\n",
    "negative_log = log_avg * -1\n",
    "negative_log"
   ]
  },
  {
   "cell_type": "code",
   "execution_count": null,
   "id": "5fc935ac",
   "metadata": {},
   "outputs": [],
   "source": [
    "flat_logits = logits.flatten(0, 1)\n",
    "flat_logits.shape\n",
    "flat_target = targets.flatten()"
   ]
  },
  {
   "cell_type": "code",
   "execution_count": null,
   "id": "e17bf34e",
   "metadata": {},
   "outputs": [],
   "source": [
    "loss = torch.nn.functional.cross_entropy(flat_logits, flat_target)\n",
    "loss"
   ]
  },
  {
   "cell_type": "code",
   "execution_count": null,
   "id": "e62df49c",
   "metadata": {},
   "outputs": [],
   "source": [
    "perplexity = torch.exp(loss)\n",
    "perplexity"
   ]
  },
  {
   "cell_type": "code",
   "execution_count": null,
   "id": "c685b90f",
   "metadata": {},
   "outputs": [],
   "source": [
    "logits.shape"
   ]
  },
  {
   "cell_type": "code",
   "execution_count": null,
   "id": "f49dbb46",
   "metadata": {},
   "outputs": [],
   "source": [
    "print(flat_logits.shape)  # should be (batch*tokens, 56258)\n",
    "print(flat_target.max())  # should be < 56258\n"
   ]
  },
  {
   "cell_type": "code",
   "execution_count": null,
   "id": "457e6247",
   "metadata": {},
   "outputs": [],
   "source": [
    "V = 56258\n",
    "print(\"Upper bound:\", V)\n",
    "print(\"Loss upper bound (random):\", torch.log(torch.tensor(V, dtype=torch.float)))\n"
   ]
  },
  {
   "cell_type": "code",
   "execution_count": null,
   "id": "4f93f32b",
   "metadata": {},
   "outputs": [],
   "source": [
    "print(loss.item())  # what's the numeric value?"
   ]
  },
  {
   "cell_type": "markdown",
   "id": "cf5b78a4",
   "metadata": {},
   "source": [
    "# Real Loss"
   ]
  },
  {
   "cell_type": "code",
   "execution_count": 15,
   "id": "b7456718",
   "metadata": {},
   "outputs": [],
   "source": [
    "file_path = \"./DATA/the-verdict.txt\"\n",
    "with open(file_path, \"r\", encoding=\"utf-8\") as file:\n",
    "    text = file.read()"
   ]
  },
  {
   "cell_type": "code",
   "execution_count": 16,
   "id": "448be827",
   "metadata": {},
   "outputs": [
    {
     "data": {
      "text/plain": [
       "5146"
      ]
     },
     "execution_count": 16,
     "metadata": {},
     "output_type": "execute_result"
    }
   ],
   "source": [
    "characters_count = len(text)\n",
    "token_len = len(tokenizer.encode(text))\n",
    "token_len"
   ]
  },
  {
   "cell_type": "code",
   "execution_count": 17,
   "id": "14114d57",
   "metadata": {},
   "outputs": [],
   "source": [
    "class GPT_Dataset(Dataset):\n",
    "    def __init__(self, txt, context_len, stride, tokenizer):\n",
    "        super().__init__()\n",
    "\n",
    "        self.input_idx = []\n",
    "        self.output_idx = []\n",
    "\n",
    "        token_ids = tokenizer.encode(txt, allowed_special={\"<|endoftext|>\"})\n",
    "\n",
    "        for i in range(0, len(token_ids) - context_len, stride):\n",
    "            input_chunk = token_ids[i : i+context_len]\n",
    "            output_chunks = token_ids[i+1 : i+context_len+1]\n",
    "\n",
    "            self.input_idx.append(torch.tensor(input_chunk))\n",
    "            self.output_idx.append(torch.tensor(output_chunks))\n",
    "\n",
    "    def __len__(self):\n",
    "        return len(self.input_idx)\n",
    "    \n",
    "    def __getitem__(self, x):\n",
    "        return self.input_idx[x], self.output_idx[x]"
   ]
  },
  {
   "cell_type": "code",
   "execution_count": 18,
   "id": "3ededc14",
   "metadata": {},
   "outputs": [],
   "source": [
    "def create_data_loader(txt, context_len=256, stride=128,\n",
    "                   batch_size=4, shuffle=False, num_workers=0,\n",
    "                   drop_last=True):\n",
    "    \n",
    "    tokenizer = tiktoken.get_encoding(\"gpt2\")\n",
    "    dataset = GPT_Dataset( txt, context_len, stride, tokenizer)\n",
    "\n",
    "    data_loader = DataLoader(\n",
    "        dataset=dataset,\n",
    "        batch_size=batch_size,\n",
    "        shuffle=shuffle,\n",
    "        drop_last=drop_last,\n",
    "        num_workers=num_workers\n",
    "    )\n",
    "\n",
    "    return data_loader\n"
   ]
  },
  {
   "cell_type": "code",
   "execution_count": 19,
   "id": "2f286d39",
   "metadata": {},
   "outputs": [],
   "source": [
    "train_ratio = 0.9\n",
    "split_idx = int(train_ratio * len(text))\n",
    "traing_data = text[:split_idx]\n",
    "test_data = text[split_idx:]\n",
    "\n",
    "train_dataloader = create_data_loader(\n",
    "    traing_data,\n",
    "    context_len=cfg[\"context_length\"],\n",
    "    stride=256,\n",
    "    batch_size=2,\n",
    "    shuffle=True,\n",
    "    num_workers=0,\n",
    "    drop_last=True\n",
    "    )\n",
    "\n",
    "test_dataloader = create_data_loader(\n",
    "    test_data,\n",
    "    context_len=cfg[\"context_length\"],\n",
    "    stride=256,\n",
    "    batch_size=2,\n",
    "    shuffle=True,\n",
    "    num_workers=0,\n",
    "    drop_last=True\n",
    "    )"
   ]
  },
  {
   "cell_type": "code",
   "execution_count": 20,
   "id": "a4a7c840",
   "metadata": {},
   "outputs": [
    {
     "name": "stdout",
     "output_type": "stream",
     "text": [
      "torch.Size([2, 256]) torch.Size([2, 256])\n",
      "torch.Size([2, 256]) torch.Size([2, 256])\n",
      "torch.Size([2, 256]) torch.Size([2, 256])\n",
      "torch.Size([2, 256]) torch.Size([2, 256])\n",
      "torch.Size([2, 256]) torch.Size([2, 256])\n",
      "torch.Size([2, 256]) torch.Size([2, 256])\n",
      "torch.Size([2, 256]) torch.Size([2, 256])\n",
      "torch.Size([2, 256]) torch.Size([2, 256])\n",
      "torch.Size([2, 256]) torch.Size([2, 256])\n"
     ]
    }
   ],
   "source": [
    "for x, y in train_dataloader:\n",
    "    print(x.shape, y.shape)"
   ]
  },
  {
   "cell_type": "code",
   "execution_count": 24,
   "id": "31ddac57",
   "metadata": {},
   "outputs": [],
   "source": [
    "def corss_entropy_loss(input_batch, target_batch, device, model):\n",
    "    input_batch, target_batch = input_batch.to(device), target_batch.to(device)\n",
    "    logits = model(input_batch)\n",
    "    loss = torch.nn.functional.cross_entropy(logits.flatten(0, 1), target_batch.flatten())\n",
    "\n",
    "    return loss\n",
    "\n",
    "\n",
    "def corss_entropy_loss_loader(data_loader, model, device, num_batch=None):\n",
    "    total_loss = 0\n",
    "\n",
    "    if len(data_loader) == 0:\n",
    "        return float(\"nan\")\n",
    "    elif num_batch is None:\n",
    "        num_batch = len(data_loader)\n",
    "    else:\n",
    "        num_batch = min(num_batch, len(data_loader))\n",
    "    \n",
    "    for i, (input_batch, target_batch) in enumerate(data_loader):\n",
    "        if i < num_batch:\n",
    "            loss = corss_entropy_loss(input_batch, target_batch, device, model)\n",
    "            total_loss += loss.item()\n",
    "        else:\n",
    "            break\n",
    "    return total_loss/num_batch"
   ]
  },
  {
   "cell_type": "code",
   "execution_count": 25,
   "id": "7bb1807d",
   "metadata": {},
   "outputs": [
    {
     "name": "stdout",
     "output_type": "stream",
     "text": [
      "Training Loss: 11.00371954176161\n"
     ]
    }
   ],
   "source": [
    "device = torch.device(\"cuda\" if torch.cuda.is_available() else \"cpu\")\n",
    "\n",
    "model.to(device)\n",
    "\n",
    "model.eval()\n",
    "\n",
    "with torch.inference_mode():\n",
    "    train_loss = corss_entropy_loss_loader(train_dataloader, model=model, device=device)\n",
    "\n",
    "print(f\"Training Loss: {train_loss}\")"
   ]
  }
 ],
 "metadata": {
  "kernelspec": {
   "display_name": "pyTorch",
   "language": "python",
   "name": "python3"
  },
  "language_info": {
   "codemirror_mode": {
    "name": "ipython",
    "version": 3
   },
   "file_extension": ".py",
   "mimetype": "text/x-python",
   "name": "python",
   "nbconvert_exporter": "python",
   "pygments_lexer": "ipython3",
   "version": "3.10.18"
  }
 },
 "nbformat": 4,
 "nbformat_minor": 5
}
