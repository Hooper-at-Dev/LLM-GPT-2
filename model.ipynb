{
 "cells": [
  {
   "cell_type": "code",
   "execution_count": 53,
   "id": "4c833869",
   "metadata": {},
   "outputs": [],
   "source": [
    "import torch\n",
    "import torch.nn as nn\n",
    "import tiktoken\n",
    "import os\n",
    "from torch.utils.data import DataLoader, Dataset\n",
    "import numpy as np"
   ]
  },
  {
   "cell_type": "code",
   "execution_count": 13,
   "id": "b7456718",
   "metadata": {},
   "outputs": [],
   "source": [
    "file_path = \"./DATA/the-verdict.txt\"\n",
    "with open(file_path, \"r\", encoding=\"utf-8\") as file:\n",
    "    text = file.read()"
   ]
  },
  {
   "cell_type": "code",
   "execution_count": 14,
   "id": "edeb83ca",
   "metadata": {},
   "outputs": [],
   "source": [
    "tokenizer = tiktoken.get_encoding(\"gpt2\")"
   ]
  },
  {
   "cell_type": "code",
   "execution_count": 15,
   "id": "325eab49",
   "metadata": {},
   "outputs": [],
   "source": [
    "cfg = {\n",
    "    \"vocab_size\": 50257,\n",
    "    \"context_length\": 256,\n",
    "    \"emb_dim\": 768,\n",
    "    \"n_heads\": 12,\n",
    "    \"n_layers\": 12,\n",
    "    \"drop_rate\": 0.1,\n",
    "    \"qkv_bias\": False\n",
    "}"
   ]
  },
  {
   "cell_type": "code",
   "execution_count": 16,
   "id": "9b4b9d87",
   "metadata": {},
   "outputs": [],
   "source": [
    "class LayerNorm(nn.Module):\n",
    "    def __init__(self, emb_dim):\n",
    "        super().__init__()\n",
    "        self.eps = 1e-5\n",
    "        self.scale = nn.Parameter(torch.ones(emb_dim))\n",
    "        self.shift = nn.Parameter(torch.zeros(emb_dim))\n",
    "    \n",
    "    def forward(self, x):\n",
    "        mean = x.mean(dim=-1, keepdim=True)\n",
    "        var = x.var(dim=-1, keepdim=True)\n",
    "        norm_x = (x-mean)/torch.sqrt(var + self.eps)\n",
    "        return self.scale * norm_x + self.shift"
   ]
  },
  {
   "cell_type": "code",
   "execution_count": 17,
   "id": "cbff6242",
   "metadata": {},
   "outputs": [],
   "source": [
    "class Feed_Forward(nn.Module):\n",
    "    def __init__(self, cfg):\n",
    "        super().__init__()\n",
    "        self.layers = nn.Sequential(\n",
    "            nn.Linear(cfg[\"emb_dim\"], cfg[\"emb_dim\"]*4),\n",
    "            nn.GELU(),\n",
    "            nn.Linear(cfg[\"emb_dim\"]*4, cfg[\"emb_dim\"])\n",
    "        )\n",
    "    def forward(self, x):\n",
    "        return self.layers(x)"
   ]
  },
  {
   "cell_type": "code",
   "execution_count": 89,
   "id": "a07abc07",
   "metadata": {},
   "outputs": [],
   "source": [
    "class MultiHead_Attention(nn.Module):\n",
    "    def __init__(self,d_in,\n",
    "                 d_out,\n",
    "                 num_head,\n",
    "                 dropout,\n",
    "                 context_length,\n",
    "                 bias=False):\n",
    "        super().__init__()\n",
    "        self.W_Query = nn.Linear(d_in, d_out, bias=bias)\n",
    "        self.W_Key = nn.Linear(d_in, d_out, bias=bias)\n",
    "        self.W_Value = nn.Linear(d_in, d_out, bias=bias)\n",
    "        self.dropout = nn.Dropout(dropout)\n",
    "        self.num_head = num_head\n",
    "        self.head_dim = d_out//num_head\n",
    "        self.d_out = d_out\n",
    "        self.out_project = nn.Linear(d_out, d_out)\n",
    "\n",
    "        self. register_buffer(\"mask\", torch.triu(torch.ones(context_length, context_length), diagonal=1))\n",
    "\n",
    "    def forward(self, x):\n",
    "        b, num_tokens, d_in = x.shape\n",
    "\n",
    "        keys = self.W_Key(x)\n",
    "        query = self.W_Query(x)\n",
    "        value = self.W_Value(x)\n",
    "\n",
    "        keys = keys.view(b, num_tokens, self.num_head, self.head_dim).transpose(1,2)\n",
    "        query = query.view(b, num_tokens, self.num_head, self.head_dim).transpose(1,2)\n",
    "        value = value.view(b, num_tokens, self.num_head, self.head_dim).transpose(1,2)\n",
    "        \n",
    "        att_score = query @ keys.transpose(2,3)\n",
    "        mask_bool = self.mask.bool()[:num_tokens, :num_tokens]\n",
    "        att_score.masked_fill_(mask_bool,-torch.inf)\n",
    "\n",
    "        att_weight = torch.softmax(att_score/keys.shape[-1]**0.5, dim=-1)\n",
    "        att_weight = self.dropout(att_weight)\n",
    "        \n",
    "        context_vec = (att_weight @ value).transpose(1, 2)\n",
    "        context_vec = context_vec.contiguous().view(b, num_tokens, d_in)\n",
    "        context_vec = self.out_project(context_vec)\n",
    "        return context_vec"
   ]
  },
  {
   "cell_type": "code",
   "execution_count": 19,
   "id": "ea01b3c2",
   "metadata": {},
   "outputs": [],
   "source": [
    "class TransformerBlock(nn.Module):\n",
    "    def __init__(self, cfg):\n",
    "        super().__init__()\n",
    "\n",
    "        self.att = MultiHead_Attention(d_in=cfg['emb_dim'],\n",
    "                                       d_out=cfg['emb_dim'],\n",
    "                                       num_head=cfg['n_heads'],\n",
    "                                       dropout=cfg['drop_rate'],\n",
    "                                       context_length=cfg['context_length'],\n",
    "                                       bias=cfg['qkv_bias']\n",
    "                                       )\n",
    "        self.feed_forward = Feed_Forward(cfg=cfg)\n",
    "        self.norm1 = LayerNorm(emb_dim=cfg['emb_dim'])\n",
    "        self.norm2 = LayerNorm(emb_dim=cfg['emb_dim']) \n",
    "        self.shortcut_drop = nn.Dropout(cfg['drop_rate'])\n",
    "\n",
    "    def forward(self, x):\n",
    "        shortcut = x\n",
    "        x = self.norm1(x)\n",
    "        x = self.att(x)\n",
    "        x = self.shortcut_drop(x)\n",
    "        x = x + shortcut\n",
    "\n",
    "        shortcut = x\n",
    "\n",
    "        x = self.norm2(x)\n",
    "        x = self.feed_forward(x)\n",
    "        x = self.shortcut_drop(x)\n",
    "        x = x + shortcut\n",
    "\n",
    "        return x"
   ]
  },
  {
   "cell_type": "code",
   "execution_count": 20,
   "id": "1c3ad0d2",
   "metadata": {},
   "outputs": [],
   "source": [
    "class GPT_Model(nn.Module):\n",
    "    def __init__(self, cfg):\n",
    "        super().__init__()\n",
    "        self.tok_emb = nn.Embedding(cfg['vocab_size'], cfg['emb_dim'])\n",
    "        self.pos_emb = nn.Embedding(cfg['context_length'], cfg['emb_dim'])\n",
    "        self.drop_emb = nn.Dropout(cfg['drop_rate'])\n",
    "\n",
    "        self.trf_block = nn.Sequential(\n",
    "            *[TransformerBlock(cfg) for _ in range(cfg['n_layers'])]\n",
    "        )\n",
    "\n",
    "        self.final_norm = LayerNorm(emb_dim=cfg['emb_dim'])\n",
    "        self.out_head = nn.Linear(\n",
    "            cfg['emb_dim'], cfg['vocab_size'], bias=False\n",
    "        )\n",
    "\n",
    "    def forward(self, in_idx):\n",
    "        batch_size, seq_length = in_idx.shape\n",
    "        tok_embeds = self.tok_emb(in_idx)\n",
    "        pos_embeds = self.pos_emb(torch.arange(seq_length, device=in_idx.device))\n",
    "        x = pos_embeds + tok_embeds\n",
    "        x = self.drop_emb(x)\n",
    "        x = self.trf_block(x)\n",
    "        x = self.final_norm(x)\n",
    "        logits = self.out_head(x)\n",
    "        \n",
    "        return logits"
   ]
  },
  {
   "cell_type": "code",
   "execution_count": 21,
   "id": "7e46167a",
   "metadata": {},
   "outputs": [],
   "source": [
    "model = GPT_Model(cfg=cfg)"
   ]
  },
  {
   "cell_type": "code",
   "execution_count": 22,
   "id": "1adfa0d1",
   "metadata": {},
   "outputs": [
    {
     "name": "stdout",
     "output_type": "stream",
     "text": [
      "Total Number of parameters: 162,419,712\n"
     ]
    }
   ],
   "source": [
    "total_params = sum(p.numel() for p in model.parameters())\n",
    "print(f\"Total Number of parameters: {total_params:,}\")"
   ]
  },
  {
   "cell_type": "code",
   "execution_count": 23,
   "id": "b105c64e",
   "metadata": {},
   "outputs": [
    {
     "name": "stdout",
     "output_type": "stream",
     "text": [
      "Total size of the model: 619.58 MB\n"
     ]
    }
   ],
   "source": [
    "total_size_bytes = total_params * 4 #A\n",
    "total_size_mb = total_size_bytes / (1024 * 1024) #B\n",
    "print(f\"Total size of the model: {total_size_mb:.2f} MB\")"
   ]
  },
  {
   "cell_type": "markdown",
   "id": "c541a9a5",
   "metadata": {},
   "source": [
    "# Generating Text"
   ]
  },
  {
   "cell_type": "code",
   "execution_count": 24,
   "id": "5d6ec815",
   "metadata": {},
   "outputs": [],
   "source": [
    "def Generate_Text(model, idx, max_tokens, context_size):\n",
    "    for _ in range(max_tokens):\n",
    "        idx_cond = idx[:, -context_size:]\n",
    "        with torch.inference_mode():\n",
    "            logits = model(idx_cond)\n",
    "\n",
    "            logits = logits[:, -1, :]\n",
    "            probs = torch.softmax(logits, dim=-1)\n",
    "            next_idx = torch.argmax(probs, dim=-1, keepdim=True)\n",
    "            idx = torch.cat((idx, next_idx), dim=-1)\n",
    "    return idx"
   ]
  },
  {
   "cell_type": "markdown",
   "id": "cf5b78a4",
   "metadata": {},
   "source": [
    "# Loss"
   ]
  },
  {
   "cell_type": "code",
   "execution_count": 25,
   "id": "448be827",
   "metadata": {},
   "outputs": [
    {
     "data": {
      "text/plain": [
       "5146"
      ]
     },
     "execution_count": 25,
     "metadata": {},
     "output_type": "execute_result"
    }
   ],
   "source": [
    "characters_count = len(text)\n",
    "token_len = len(tokenizer.encode(text))\n",
    "token_len"
   ]
  },
  {
   "cell_type": "code",
   "execution_count": 26,
   "id": "14114d57",
   "metadata": {},
   "outputs": [],
   "source": [
    "class GPT_Dataset(Dataset):\n",
    "    def __init__(self, txt, context_len, stride, tokenizer):\n",
    "        super().__init__()\n",
    "\n",
    "        self.input_idx = []\n",
    "        self.output_idx = []\n",
    "\n",
    "        token_ids = tokenizer.encode(txt, allowed_special={\"<|endoftext|>\"})\n",
    "\n",
    "        for i in range(0, len(token_ids) - context_len, stride):\n",
    "            input_chunk = token_ids[i : i+context_len]\n",
    "            output_chunks = token_ids[i+1 : i+context_len+1]\n",
    "\n",
    "            self.input_idx.append(torch.tensor(input_chunk))\n",
    "            self.output_idx.append(torch.tensor(output_chunks))\n",
    "\n",
    "    def __len__(self):\n",
    "        return len(self.input_idx)\n",
    "    \n",
    "    def __getitem__(self, x):\n",
    "        return self.input_idx[x], self.output_idx[x]"
   ]
  },
  {
   "cell_type": "code",
   "execution_count": 27,
   "id": "3ededc14",
   "metadata": {},
   "outputs": [],
   "source": [
    "def create_data_loader(txt, context_len=256, stride=128,\n",
    "                   batch_size=8, shuffle=False, num_workers=0,\n",
    "                   drop_last=True):\n",
    "    \n",
    "    tokenizer = tiktoken.get_encoding(\"gpt2\")\n",
    "    dataset = GPT_Dataset( txt, context_len, stride, tokenizer)\n",
    "\n",
    "    data_loader = DataLoader(\n",
    "        dataset=dataset,\n",
    "        batch_size=batch_size,\n",
    "        shuffle=shuffle,\n",
    "        drop_last=drop_last,\n",
    "        num_workers=num_workers\n",
    "    )\n",
    "\n",
    "    return data_loader\n"
   ]
  },
  {
   "cell_type": "code",
   "execution_count": 28,
   "id": "2f286d39",
   "metadata": {},
   "outputs": [],
   "source": [
    "train_ratio = 0.9\n",
    "split_idx = int(train_ratio * len(text))\n",
    "traing_data = text[:split_idx]\n",
    "test_data = text[split_idx:]\n",
    "\n",
    "train_dataloader = create_data_loader(\n",
    "    traing_data,\n",
    "    context_len=cfg[\"context_length\"],\n",
    "    stride=256,\n",
    "    batch_size=2,\n",
    "    shuffle=True,\n",
    "    num_workers=0,\n",
    "    drop_last=True\n",
    "    )\n",
    "\n",
    "test_dataloader = create_data_loader(\n",
    "    test_data,\n",
    "    context_len=cfg[\"context_length\"],\n",
    "    stride=256,\n",
    "    batch_size=2,\n",
    "    shuffle=True,\n",
    "    num_workers=0,\n",
    "    drop_last=True\n",
    "    )"
   ]
  },
  {
   "cell_type": "code",
   "execution_count": 29,
   "id": "a4a7c840",
   "metadata": {},
   "outputs": [
    {
     "name": "stdout",
     "output_type": "stream",
     "text": [
      "torch.Size([2, 256]) torch.Size([2, 256])\n",
      "torch.Size([2, 256]) torch.Size([2, 256])\n",
      "torch.Size([2, 256]) torch.Size([2, 256])\n",
      "torch.Size([2, 256]) torch.Size([2, 256])\n",
      "torch.Size([2, 256]) torch.Size([2, 256])\n",
      "torch.Size([2, 256]) torch.Size([2, 256])\n",
      "torch.Size([2, 256]) torch.Size([2, 256])\n",
      "torch.Size([2, 256]) torch.Size([2, 256])\n",
      "torch.Size([2, 256]) torch.Size([2, 256])\n"
     ]
    }
   ],
   "source": [
    "for x, y in train_dataloader:\n",
    "    print(x.shape, y.shape)"
   ]
  },
  {
   "cell_type": "code",
   "execution_count": 30,
   "id": "31ddac57",
   "metadata": {},
   "outputs": [],
   "source": [
    "def corss_entropy_loss(input_batch, target_batch, device, model):\n",
    "    input_batch, target_batch = input_batch.to(device), target_batch.to(device)\n",
    "    logits = model(input_batch)\n",
    "    loss = torch.nn.functional.cross_entropy(logits.flatten(0, 1), target_batch.flatten())\n",
    "\n",
    "    return loss\n",
    "\n",
    "\n",
    "def corss_entropy_loss_loader(data_loader, model, device, num_batch=None):\n",
    "    total_loss = 0\n",
    "\n",
    "    if len(data_loader) == 0:\n",
    "        return float(\"nan\")\n",
    "    elif num_batch is None:\n",
    "        num_batch = len(data_loader)\n",
    "    else:\n",
    "        num_batch = min(num_batch, len(data_loader))\n",
    "    \n",
    "    for i, (input_batch, target_batch) in enumerate(data_loader):\n",
    "        if i < num_batch:\n",
    "            loss = corss_entropy_loss(input_batch, target_batch, device, model)\n",
    "            total_loss += loss.item()\n",
    "        else:\n",
    "            break\n",
    "    return total_loss/num_batch"
   ]
  },
  {
   "cell_type": "code",
   "execution_count": 31,
   "id": "212a5639",
   "metadata": {},
   "outputs": [],
   "source": [
    "def evaluate_model(model, train_loader, val_loader, device, eval_iter):\n",
    "    model.eval()\n",
    "    with torch.no_grad():\n",
    "        train_loss = corss_entropy_loss_loader(train_loader, model, device, num_batch=eval_iter)\n",
    "        val_loss = corss_entropy_loss_loader(val_loader, model, device, num_batch=eval_iter)\n",
    "    model.train()\n",
    "    return train_loss, val_loss"
   ]
  },
  {
   "cell_type": "code",
   "execution_count": 32,
   "id": "6999d149",
   "metadata": {},
   "outputs": [],
   "source": [
    "def text_to_token_ids(text, tokenizer):\n",
    "    encoded = tokenizer.encode(text, allowed_special={'<|endoftext|>'})\n",
    "    encoded_tensor = torch.tensor(encoded).unsqueeze(0) # add batch dimension\n",
    "    return encoded_tensor\n",
    "\n",
    "def token_ids_to_text(token_ids, tokenizer):\n",
    "    flat = token_ids.squeeze(0) # remove batch dimension\n",
    "    return tokenizer.decode(flat.tolist())\n"
   ]
  },
  {
   "cell_type": "code",
   "execution_count": 33,
   "id": "7008ee74",
   "metadata": {},
   "outputs": [],
   "source": [
    "def generate_and_print_sample(model, tokenizer, device, start_context):\n",
    "    model.eval()\n",
    "    context_size = model.pos_emb.weight.shape[0]\n",
    "    encoded = text_to_token_ids(start_context, tokenizer).to(device)\n",
    "    with torch.no_grad():\n",
    "        token_ids = Generate_Text(\n",
    "            model=model, idx=encoded,\n",
    "            max_tokens=50, context_size=context_size\n",
    "        )\n",
    "    decoded_text = token_ids_to_text(token_ids, tokenizer)\n",
    "    print(decoded_text.replace(\"\\n\", \" \"))  # Compact print format\n",
    "    model.train()"
   ]
  },
  {
   "cell_type": "code",
   "execution_count": 34,
   "id": "fad63a49",
   "metadata": {},
   "outputs": [],
   "source": [
    "from tqdm import tqdm\n",
    "def train_model_sample(model, train_loader, val_loader, optimizer, device, num_epochs,\n",
    "                       eval_freq, eval_iter, start_context, tokenizer):\n",
    "    train_losses, val_losses, track_token_seen = [], [], []\n",
    "\n",
    "    token_seen, global_step = 0, -1\n",
    "\n",
    "    for epoch in range(num_epochs):\n",
    "        model.train()\n",
    "        batch_iter = tqdm(train_loader, desc=f\"Epoch {epoch+1}/{num_epochs}\", leave=False)\n",
    "        for input_batch, target_batch in batch_iter:\n",
    "            optimizer.zero_grad()\n",
    "            loss = corss_entropy_loss(input_batch, target_batch, device, model)\n",
    "            loss.backward()\n",
    "            optimizer.step()\n",
    "            token_seen += input_batch.numel()\n",
    "            global_step +=1\n",
    "\n",
    "            if global_step % eval_freq == 0:\n",
    "                train_loss, val_loss = evaluate_model(model, train_loader, val_loader, device, eval_iter)\n",
    "                train_losses.append(train_loss)\n",
    "                val_losses.append(val_loss)\n",
    "                track_token_seen.append(token_seen)\n",
    "                print(f\"Ep {epoch+1}(Step {global_step:06d}): \"\n",
    "                      f\"Train Loss: {train_loss:.3f}, val Loss: {val_loss:.3f}\")\n",
    "                \n",
    "        generate_and_print_sample(model, tokenizer, device, start_context)\n",
    "\n",
    "    return train_losses, val_losses, track_token_seen\n",
    "            "
   ]
  },
  {
   "cell_type": "code",
   "execution_count": 35,
   "id": "210dc11d",
   "metadata": {},
   "outputs": [
    {
     "name": "stderr",
     "output_type": "stream",
     "text": [
      "Epoch 1/10:  33%|███▎      | 3/9 [00:01<00:01,  3.13it/s]"
     ]
    },
    {
     "name": "stdout",
     "output_type": "stream",
     "text": [
      "Ep 1(Step 000000): Train Loss: 10.027, val Loss: 10.131\n"
     ]
    },
    {
     "name": "stderr",
     "output_type": "stream",
     "text": [
      "Epoch 1/10:  89%|████████▉ | 8/9 [00:01<00:00,  6.33it/s]"
     ]
    },
    {
     "name": "stdout",
     "output_type": "stream",
     "text": [
      "Ep 1(Step 000005): Train Loss: 8.075, val Loss: 8.356\n"
     ]
    },
    {
     "name": "stderr",
     "output_type": "stream",
     "text": [
      "                                                         \r"
     ]
    },
    {
     "name": "stdout",
     "output_type": "stream",
     "text": [
      "Every step moves you,                                                 \n"
     ]
    },
    {
     "name": "stderr",
     "output_type": "stream",
     "text": [
      "Epoch 2/10:  44%|████▍     | 4/9 [00:00<00:00,  9.60it/s]"
     ]
    },
    {
     "name": "stdout",
     "output_type": "stream",
     "text": [
      "Ep 2(Step 000010): Train Loss: 6.784, val Loss: 7.122\n"
     ]
    },
    {
     "name": "stderr",
     "output_type": "stream",
     "text": [
      "                                                         "
     ]
    },
    {
     "name": "stdout",
     "output_type": "stream",
     "text": [
      "Ep 2(Step 000015): Train Loss: 6.053, val Loss: 6.650\n"
     ]
    },
    {
     "name": "stderr",
     "output_type": "stream",
     "text": [
      "\r"
     ]
    },
    {
     "name": "stdout",
     "output_type": "stream",
     "text": [
      "Every step moves you, the, the, the, the, the, the, the, the.                                 \n"
     ]
    },
    {
     "name": "stderr",
     "output_type": "stream",
     "text": [
      "Epoch 3/10:  44%|████▍     | 4/9 [00:00<00:00,  8.17it/s]"
     ]
    },
    {
     "name": "stdout",
     "output_type": "stream",
     "text": [
      "Ep 3(Step 000020): Train Loss: 12.585, val Loss: 13.870\n"
     ]
    },
    {
     "name": "stderr",
     "output_type": "stream",
     "text": [
      "                                                         "
     ]
    },
    {
     "name": "stdout",
     "output_type": "stream",
     "text": [
      "Ep 3(Step 000025): Train Loss: 5.597, val Loss: 6.425\n"
     ]
    },
    {
     "name": "stderr",
     "output_type": "stream",
     "text": [
      "\r"
     ]
    },
    {
     "name": "stdout",
     "output_type": "stream",
     "text": [
      "Every step moves you I                                                 \n"
     ]
    },
    {
     "name": "stderr",
     "output_type": "stream",
     "text": [
      "Epoch 4/10:  67%|██████▋   | 6/9 [00:00<00:00,  9.42it/s]"
     ]
    },
    {
     "name": "stdout",
     "output_type": "stream",
     "text": [
      "Ep 4(Step 000030): Train Loss: 5.313, val Loss: 6.512\n"
     ]
    },
    {
     "name": "stderr",
     "output_type": "stream",
     "text": [
      "                                                         "
     ]
    },
    {
     "name": "stdout",
     "output_type": "stream",
     "text": [
      "Ep 4(Step 000035): Train Loss: 5.092, val Loss: 6.526\n"
     ]
    },
    {
     "name": "stderr",
     "output_type": "stream",
     "text": [
      "\r"
     ]
    },
    {
     "name": "stdout",
     "output_type": "stream",
     "text": [
      "Every step moves you.  \"--I, and he had, and he had. \". Gisburn--I. \". \". \". \", and. \". Gisburn--I, and he was\n"
     ]
    },
    {
     "name": "stderr",
     "output_type": "stream",
     "text": [
      "Epoch 5/10:  67%|██████▋   | 6/9 [00:00<00:00,  8.26it/s]"
     ]
    },
    {
     "name": "stdout",
     "output_type": "stream",
     "text": [
      "Ep 5(Step 000040): Train Loss: 4.645, val Loss: 6.387\n"
     ]
    },
    {
     "name": "stderr",
     "output_type": "stream",
     "text": [
      "                                                         \r"
     ]
    },
    {
     "name": "stdout",
     "output_type": "stream",
     "text": [
      "Every step moves you a little was a a little wild--I felt, I had been                                    \n"
     ]
    },
    {
     "name": "stderr",
     "output_type": "stream",
     "text": [
      "Epoch 6/10:  11%|█         | 1/9 [00:00<00:01,  4.94it/s]"
     ]
    },
    {
     "name": "stdout",
     "output_type": "stream",
     "text": [
      "Ep 6(Step 000045): Train Loss: 4.527, val Loss: 6.499\n"
     ]
    },
    {
     "name": "stderr",
     "output_type": "stream",
     "text": [
      "Epoch 6/10:  89%|████████▉ | 8/9 [00:00<00:00,  8.28it/s]"
     ]
    },
    {
     "name": "stdout",
     "output_type": "stream",
     "text": [
      "Ep 6(Step 000050): Train Loss: 3.851, val Loss: 6.344\n"
     ]
    },
    {
     "name": "stderr",
     "output_type": "stream",
     "text": [
      "                                                         \r"
     ]
    },
    {
     "name": "stdout",
     "output_type": "stream",
     "text": [
      "Every step moves you the last, and--I, and I felt, and I had been of the picture was the fact, in the Riv of the picture, in, in the last, in the picture--as, the donkey.      \n"
     ]
    },
    {
     "name": "stderr",
     "output_type": "stream",
     "text": [
      "Epoch 7/10:  44%|████▍     | 4/9 [00:00<00:00,  9.69it/s]"
     ]
    },
    {
     "name": "stdout",
     "output_type": "stream",
     "text": [
      "Ep 7(Step 000055): Train Loss: 3.550, val Loss: 6.260\n"
     ]
    },
    {
     "name": "stderr",
     "output_type": "stream",
     "text": [
      "                                                         "
     ]
    },
    {
     "name": "stdout",
     "output_type": "stream",
     "text": [
      "Ep 7(Step 000060): Train Loss: 2.979, val Loss: 6.176\n"
     ]
    },
    {
     "name": "stderr",
     "output_type": "stream",
     "text": [
      "\r"
     ]
    },
    {
     "name": "stdout",
     "output_type": "stream",
     "text": [
      "Every step moves you know,\" was one of the axioms--and so inevitably the                                    \n"
     ]
    },
    {
     "name": "stderr",
     "output_type": "stream",
     "text": [
      "Epoch 8/10:  56%|█████▌    | 5/9 [00:00<00:00,  8.75it/s]"
     ]
    },
    {
     "name": "stdout",
     "output_type": "stream",
     "text": [
      "Ep 8(Step 000065): Train Loss: 2.494, val Loss: 6.186\n"
     ]
    },
    {
     "name": "stderr",
     "output_type": "stream",
     "text": [
      "                                                         "
     ]
    },
    {
     "name": "stdout",
     "output_type": "stream",
     "text": [
      "Ep 8(Step 000070): Train Loss: 2.513, val Loss: 6.263\n"
     ]
    },
    {
     "name": "stderr",
     "output_type": "stream",
     "text": [
      "\r"
     ]
    },
    {
     "name": "stdout",
     "output_type": "stream",
     "text": [
      "Every step moves you in the picture was a little wild--I felt nervous and uncertain.                                    \n"
     ]
    },
    {
     "name": "stderr",
     "output_type": "stream",
     "text": [
      "Epoch 9/10:  67%|██████▋   | 6/9 [00:00<00:00,  9.41it/s]"
     ]
    },
    {
     "name": "stdout",
     "output_type": "stream",
     "text": [
      "Ep 9(Step 000075): Train Loss: 1.856, val Loss: 6.303\n"
     ]
    },
    {
     "name": "stderr",
     "output_type": "stream",
     "text": [
      "                                                         "
     ]
    },
    {
     "name": "stdout",
     "output_type": "stream",
     "text": [
      "Ep 9(Step 000080): Train Loss: 1.741, val Loss: 6.329\n"
     ]
    },
    {
     "name": "stderr",
     "output_type": "stream",
     "text": [
      "\r"
     ]
    },
    {
     "name": "stdout",
     "output_type": "stream",
     "text": [
      "Every step moves you in the inevitable.      \"I looked me.                                   \n"
     ]
    },
    {
     "name": "stderr",
     "output_type": "stream",
     "text": [
      "Epoch 10/10:  78%|███████▊  | 7/9 [00:00<00:00,  8.70it/s]"
     ]
    },
    {
     "name": "stdout",
     "output_type": "stream",
     "text": [
      "Ep 10(Step 000085): Train Loss: 1.451, val Loss: 6.354\n"
     ]
    },
    {
     "name": "stderr",
     "output_type": "stream",
     "text": [
      "                                                          \r"
     ]
    },
    {
     "name": "stdout",
     "output_type": "stream",
     "text": [
      "Every step moves you?\"  \"Yes--and by a smile that he had the background of her. \"Yes--as! The women had to see a smile behind his close grayish beard--as if he had the donkey. \"There were days when I\n",
      "Total trainig time: 0.45068724552790324\n"
     ]
    }
   ],
   "source": [
    "import time\n",
    "device = \"cuda\" if torch.cuda.is_available() else \"cpu\"\n",
    "start_time = time.time()\n",
    "\n",
    "num_epoch = 10\n",
    "\n",
    "torch.manual_seed(42)\n",
    "model = GPT_Model(cfg)\n",
    "model.to(device)\n",
    "\n",
    "optimizer = torch.optim.AdamW(model.parameters(), lr=0.0004, weight_decay=0.1)\n",
    "train_losses, val_losses, tokens_seen = train_model_sample(model, train_dataloader, test_dataloader, optimizer,\n",
    "                                                       device, num_epoch, eval_freq=5, eval_iter=5,\n",
    "                                                       start_context=\"Every step moves you\", tokenizer=tokenizer)\n",
    "\n",
    "end_time = time.time()\n",
    "\n",
    "train_time = (end_time - start_time)/60\n",
    "\n",
    "print(f\"Total trainig time: {train_time}\")"
   ]
  },
  {
   "cell_type": "code",
   "execution_count": 36,
   "id": "12c0ba8d",
   "metadata": {},
   "outputs": [],
   "source": [
    "def generate(model, idx, context_len, max_new_tok, top_k, temp=0.0, eos_id = None):\n",
    "\n",
    "    for _ in range(max_new_tok):\n",
    "        idx = idx.to(device)\n",
    "        idx_cond = idx[:, -context_len:]\n",
    "        with torch.inference_mode():\n",
    "            logits = model(idx_cond)\n",
    "        logits = logits[:, -1, :]\n",
    "        top_k_logits, _ = torch.topk(logits, top_k)\n",
    "        min_val = top_k_logits[:, -1]\n",
    "        logits = torch.where(condition=logits<min_val,\n",
    "                                 input=torch.tensor(float(\"-inf\")).to(logits.device),\n",
    "                                 other=logits)\n",
    "        if temp>0.0:\n",
    "            logits = logits/temp\n",
    "            probs = torch.softmax(logits, dim=-1)\n",
    "            preds = torch.multinomial(probs, 1)\n",
    "        else:\n",
    "            probs = torch.softmax(logits, dim=-1)\n",
    "            preds = torch.multinomial(probs, 1)\n",
    "\n",
    "        if preds == eos_id:\n",
    "            break\n",
    "\n",
    "        idx = torch.cat((idx, preds), dim= 1)\n",
    "    return idx"
   ]
  },
  {
   "cell_type": "code",
   "execution_count": 74,
   "id": "a2f3b673",
   "metadata": {},
   "outputs": [
    {
     "name": "stdout",
     "output_type": "stream",
     "text": [
      "output:\n",
      "I went to the park Herm mighty up his subject being for you knowinteresting\n"
     ]
    }
   ],
   "source": [
    "text_gen = generate(model, idx=text_to_token_ids(\"I went to the park\", tokenizer=tokenizer), max_new_tok=10, top_k=25, temp=1.6, context_len=cfg[\"context_length\"])\n",
    "print(f\"output:\\n{token_ids_to_text(text_gen, tokenizer)}\")"
   ]
  },
  {
   "cell_type": "markdown",
   "id": "35ca7db8",
   "metadata": {},
   "source": [
    "# Importing pre-trained weights from original gpt-2 model.\n"
   ]
  },
  {
   "cell_type": "code",
   "execution_count": 38,
   "id": "1e5622ad",
   "metadata": {},
   "outputs": [],
   "source": [
    "from preTrained_weights.load_gpt_2 import load_gpt_2_weights"
   ]
  },
  {
   "cell_type": "code",
   "execution_count": 39,
   "id": "20ba10ab",
   "metadata": {},
   "outputs": [],
   "source": [
    "DIR = \"./preTrained_weights\""
   ]
  },
  {
   "cell_type": "code",
   "execution_count": 40,
   "id": "dea65365",
   "metadata": {},
   "outputs": [],
   "source": [
    "settings, params = load_gpt_2_weights(dir=DIR)"
   ]
  },
  {
   "cell_type": "code",
   "execution_count": 41,
   "id": "b38a97bc",
   "metadata": {},
   "outputs": [
    {
     "name": "stdout",
     "output_type": "stream",
     "text": [
      "{'n_vocab': 50257, 'n_ctx': 1024, 'n_embd': 768, 'n_head': 12, 'n_layer': 12}\n"
     ]
    }
   ],
   "source": [
    "print(settings)"
   ]
  },
  {
   "cell_type": "code",
   "execution_count": 46,
   "id": "25f606e9",
   "metadata": {},
   "outputs": [],
   "source": [
    "model_configs = {\n",
    "    \"emb_dim\": 768,\n",
    "    \"n_layers\": 12,\n",
    "    \"n_heads\": 12\n",
    "}\n",
    "\n",
    "NEW_CONFIG = cfg.copy()\n",
    "NEW_CONFIG.update(model_configs)\n",
    "\n",
    "NEW_CONFIG.update({\"context_length\": 1024, \"qkv_bias\": True})"
   ]
  },
  {
   "cell_type": "code",
   "execution_count": null,
   "id": "3ef42895",
   "metadata": {},
   "outputs": [],
   "source": [
    "gpt = GPT_Model(NEW_CONFIG)\n",
    "gpt.eval()\n"
   ]
  },
  {
   "cell_type": "code",
   "execution_count": null,
   "id": "b508d3cb",
   "metadata": {},
   "outputs": [],
   "source": [
    "v = np.split()"
   ]
  },
  {
   "cell_type": "code",
   "execution_count": 91,
   "id": "2297dcbf",
   "metadata": {},
   "outputs": [
    {
     "data": {
      "text/plain": [
       "(768, 2304)"
      ]
     },
     "execution_count": 91,
     "metadata": {},
     "output_type": "execute_result"
    }
   ],
   "source": [
    "params[\"blocks\"][1][\"attn\"][\"c_attn\"][\"w\"].shape"
   ]
  },
  {
   "cell_type": "code",
   "execution_count": 94,
   "id": "616e268e",
   "metadata": {},
   "outputs": [],
   "source": [
    "def assign(lhs, rhs):\n",
    "    if lhs.shape != rhs.shape:\n",
    "        raise ValueError(\"Shape miss match\")\n",
    "    return nn.Parameter(torch.tensor(rhs))"
   ]
  },
  {
   "cell_type": "code",
   "execution_count": 127,
   "id": "452e4509",
   "metadata": {},
   "outputs": [],
   "source": [
    "def load_weights(gpt, params):\n",
    "\n",
    "    gpt.pos_emb.weight = assign(gpt.pos_emb.weight, params[\"wpe\"])\n",
    "    gpt.tok_emb.weight = assign(gpt.tok_emb.weight, params[\"wte\"])\n",
    "\n",
    "    for b in range(len(params[\"blocks\"])):\n",
    "        W_q, W_k, W_v = np.split(params[\"blocks\"][b][\"attn\"][\"c_attn\"][\"w\"], 3, axis=-1)\n",
    "        gpt.trf_block[b].att.W_Query.weight = assign(gpt.trf_block[b].att.W_Query.weight, W_q.T)\n",
    "        gpt.trf_block[b].att.W_Key.weight = assign(gpt.trf_block[b].att.W_Key.weight, W_k.T)\n",
    "        gpt.trf_block[b].att.W_Value.weights = assign(gpt.trf_block[b].att.W_Value.weight, W_v.T)\n",
    "\n",
    "        B_q, B_k, B_v = np.split(params[\"blocks\"][b][\"attn\"][\"c_attn\"][\"b\"], 3, axis=-1)\n",
    "\n",
    "        gpt.trf_block[b].att.W_Query.bias = assign(gpt.trf_block[b].att.W_Query.bias, B_q)\n",
    "        gpt.trf_block[b].att.W_Key.bias = assign(gpt.trf_block[b].att.W_Key.bias, B_k)\n",
    "        gpt.trf_block[b].att.W_Value.bias = assign(gpt.trf_block[b].att.W_Value.bias, B_v)\n",
    "\n",
    "        gpt.trf_block[b].att.out_project.weight = assign(gpt.trf_block[b].att.out_project.weight, params[\"blocks\"][b][\"attn\"][\"c_proj\"][\"w\"].T)\n",
    "        gpt.trf_block[b].att.out_project.bias = assign(gpt.trf_block[b].att.out_project.bias, params[\"blocks\"][b][\"attn\"][\"c_proj\"][\"b\"])\n",
    "\n",
    "        gpt.trf_block[b].feed_forward.layers[0].weight = assign(gpt.trf_block[b].feed_forward.layers[0].weight, params[\"blocks\"][b][\"mlp\"][\"c_fc\"][\"w\"].T)\n",
    "        gpt.trf_block[b].feed_forward.layers[2].weight = assign(gpt.trf_block[b].feed_forward.layers[2].weight, params[\"blocks\"][b][\"mlp\"][\"c_proj\"][\"w\"].T)\n",
    "        gpt.trf_block[b].feed_forward.layers[0].bias = assign(gpt.trf_block[b].feed_forward.layers[0].bias, params[\"blocks\"][b][\"mlp\"][\"c_fc\"][\"b\"])\n",
    "        gpt.trf_block[b].feed_forward.layers[2].bias = assign(gpt.trf_block[b].feed_forward.layers[2].bias, params[\"blocks\"][b][\"mlp\"][\"c_proj\"][\"b\"])\n",
    "\n",
    "        gpt.trf_block[b].norm1.scale = assign(gpt.trf_block[b].norm1.scale, params[\"blocks\"][b][\"ln_1\"][\"g\"])\n",
    "        gpt.trf_block[b].norm1.shift = assign(gpt.trf_block[b].norm1.shift, params[\"blocks\"][b][\"ln_1\"][\"b\"])\n",
    "        gpt.trf_block[b].norm2.scale = assign(gpt.trf_block[b].norm2.scale, params[\"blocks\"][b][\"ln_2\"][\"g\"])\n",
    "        gpt.trf_block[b].norm2.shift = assign(gpt.trf_block[b].norm2.shift, params[\"blocks\"][b][\"ln_2\"][\"b\"])\n",
    "\n",
    "    gpt.final_norm.shift = assign(gpt.final_norm.shift, params[\"b\"])\n",
    "    gpt.final_norm.scale = assign(gpt.final_norm.scale, params[\"g\"])\n",
    "    gpt.out_head.weight = assign(gpt.out_head.weight, params[\"wte\"])\n",
    "\n",
    "    print(\"Weights have been loaded successfully....\")"
   ]
  },
  {
   "cell_type": "code",
   "execution_count": 128,
   "id": "f3938cde",
   "metadata": {},
   "outputs": [
    {
     "name": "stdout",
     "output_type": "stream",
     "text": [
      "Weights have been loaded successfully....\n"
     ]
    },
    {
     "data": {
      "text/plain": [
       "GPT_Model(\n",
       "  (tok_emb): Embedding(50257, 768)\n",
       "  (pos_emb): Embedding(1024, 768)\n",
       "  (drop_emb): Dropout(p=0.1, inplace=False)\n",
       "  (trf_block): Sequential(\n",
       "    (0): TransformerBlock(\n",
       "      (att): MultiHead_Attention(\n",
       "        (W_Query): Linear(in_features=768, out_features=768, bias=True)\n",
       "        (W_Key): Linear(in_features=768, out_features=768, bias=True)\n",
       "        (W_Value): Linear(in_features=768, out_features=768, bias=True)\n",
       "        (dropout): Dropout(p=0.1, inplace=False)\n",
       "        (out_project): Linear(in_features=768, out_features=768, bias=True)\n",
       "      )\n",
       "      (feed_forward): Feed_Forward(\n",
       "        (layers): Sequential(\n",
       "          (0): Linear(in_features=768, out_features=3072, bias=True)\n",
       "          (1): GELU(approximate='none')\n",
       "          (2): Linear(in_features=3072, out_features=768, bias=True)\n",
       "        )\n",
       "      )\n",
       "      (norm1): LayerNorm()\n",
       "      (norm2): LayerNorm()\n",
       "      (shortcut_drop): Dropout(p=0.1, inplace=False)\n",
       "    )\n",
       "    (1): TransformerBlock(\n",
       "      (att): MultiHead_Attention(\n",
       "        (W_Query): Linear(in_features=768, out_features=768, bias=True)\n",
       "        (W_Key): Linear(in_features=768, out_features=768, bias=True)\n",
       "        (W_Value): Linear(in_features=768, out_features=768, bias=True)\n",
       "        (dropout): Dropout(p=0.1, inplace=False)\n",
       "        (out_project): Linear(in_features=768, out_features=768, bias=True)\n",
       "      )\n",
       "      (feed_forward): Feed_Forward(\n",
       "        (layers): Sequential(\n",
       "          (0): Linear(in_features=768, out_features=3072, bias=True)\n",
       "          (1): GELU(approximate='none')\n",
       "          (2): Linear(in_features=3072, out_features=768, bias=True)\n",
       "        )\n",
       "      )\n",
       "      (norm1): LayerNorm()\n",
       "      (norm2): LayerNorm()\n",
       "      (shortcut_drop): Dropout(p=0.1, inplace=False)\n",
       "    )\n",
       "    (2): TransformerBlock(\n",
       "      (att): MultiHead_Attention(\n",
       "        (W_Query): Linear(in_features=768, out_features=768, bias=True)\n",
       "        (W_Key): Linear(in_features=768, out_features=768, bias=True)\n",
       "        (W_Value): Linear(in_features=768, out_features=768, bias=True)\n",
       "        (dropout): Dropout(p=0.1, inplace=False)\n",
       "        (out_project): Linear(in_features=768, out_features=768, bias=True)\n",
       "      )\n",
       "      (feed_forward): Feed_Forward(\n",
       "        (layers): Sequential(\n",
       "          (0): Linear(in_features=768, out_features=3072, bias=True)\n",
       "          (1): GELU(approximate='none')\n",
       "          (2): Linear(in_features=3072, out_features=768, bias=True)\n",
       "        )\n",
       "      )\n",
       "      (norm1): LayerNorm()\n",
       "      (norm2): LayerNorm()\n",
       "      (shortcut_drop): Dropout(p=0.1, inplace=False)\n",
       "    )\n",
       "    (3): TransformerBlock(\n",
       "      (att): MultiHead_Attention(\n",
       "        (W_Query): Linear(in_features=768, out_features=768, bias=True)\n",
       "        (W_Key): Linear(in_features=768, out_features=768, bias=True)\n",
       "        (W_Value): Linear(in_features=768, out_features=768, bias=True)\n",
       "        (dropout): Dropout(p=0.1, inplace=False)\n",
       "        (out_project): Linear(in_features=768, out_features=768, bias=True)\n",
       "      )\n",
       "      (feed_forward): Feed_Forward(\n",
       "        (layers): Sequential(\n",
       "          (0): Linear(in_features=768, out_features=3072, bias=True)\n",
       "          (1): GELU(approximate='none')\n",
       "          (2): Linear(in_features=3072, out_features=768, bias=True)\n",
       "        )\n",
       "      )\n",
       "      (norm1): LayerNorm()\n",
       "      (norm2): LayerNorm()\n",
       "      (shortcut_drop): Dropout(p=0.1, inplace=False)\n",
       "    )\n",
       "    (4): TransformerBlock(\n",
       "      (att): MultiHead_Attention(\n",
       "        (W_Query): Linear(in_features=768, out_features=768, bias=True)\n",
       "        (W_Key): Linear(in_features=768, out_features=768, bias=True)\n",
       "        (W_Value): Linear(in_features=768, out_features=768, bias=True)\n",
       "        (dropout): Dropout(p=0.1, inplace=False)\n",
       "        (out_project): Linear(in_features=768, out_features=768, bias=True)\n",
       "      )\n",
       "      (feed_forward): Feed_Forward(\n",
       "        (layers): Sequential(\n",
       "          (0): Linear(in_features=768, out_features=3072, bias=True)\n",
       "          (1): GELU(approximate='none')\n",
       "          (2): Linear(in_features=3072, out_features=768, bias=True)\n",
       "        )\n",
       "      )\n",
       "      (norm1): LayerNorm()\n",
       "      (norm2): LayerNorm()\n",
       "      (shortcut_drop): Dropout(p=0.1, inplace=False)\n",
       "    )\n",
       "    (5): TransformerBlock(\n",
       "      (att): MultiHead_Attention(\n",
       "        (W_Query): Linear(in_features=768, out_features=768, bias=True)\n",
       "        (W_Key): Linear(in_features=768, out_features=768, bias=True)\n",
       "        (W_Value): Linear(in_features=768, out_features=768, bias=True)\n",
       "        (dropout): Dropout(p=0.1, inplace=False)\n",
       "        (out_project): Linear(in_features=768, out_features=768, bias=True)\n",
       "      )\n",
       "      (feed_forward): Feed_Forward(\n",
       "        (layers): Sequential(\n",
       "          (0): Linear(in_features=768, out_features=3072, bias=True)\n",
       "          (1): GELU(approximate='none')\n",
       "          (2): Linear(in_features=3072, out_features=768, bias=True)\n",
       "        )\n",
       "      )\n",
       "      (norm1): LayerNorm()\n",
       "      (norm2): LayerNorm()\n",
       "      (shortcut_drop): Dropout(p=0.1, inplace=False)\n",
       "    )\n",
       "    (6): TransformerBlock(\n",
       "      (att): MultiHead_Attention(\n",
       "        (W_Query): Linear(in_features=768, out_features=768, bias=True)\n",
       "        (W_Key): Linear(in_features=768, out_features=768, bias=True)\n",
       "        (W_Value): Linear(in_features=768, out_features=768, bias=True)\n",
       "        (dropout): Dropout(p=0.1, inplace=False)\n",
       "        (out_project): Linear(in_features=768, out_features=768, bias=True)\n",
       "      )\n",
       "      (feed_forward): Feed_Forward(\n",
       "        (layers): Sequential(\n",
       "          (0): Linear(in_features=768, out_features=3072, bias=True)\n",
       "          (1): GELU(approximate='none')\n",
       "          (2): Linear(in_features=3072, out_features=768, bias=True)\n",
       "        )\n",
       "      )\n",
       "      (norm1): LayerNorm()\n",
       "      (norm2): LayerNorm()\n",
       "      (shortcut_drop): Dropout(p=0.1, inplace=False)\n",
       "    )\n",
       "    (7): TransformerBlock(\n",
       "      (att): MultiHead_Attention(\n",
       "        (W_Query): Linear(in_features=768, out_features=768, bias=True)\n",
       "        (W_Key): Linear(in_features=768, out_features=768, bias=True)\n",
       "        (W_Value): Linear(in_features=768, out_features=768, bias=True)\n",
       "        (dropout): Dropout(p=0.1, inplace=False)\n",
       "        (out_project): Linear(in_features=768, out_features=768, bias=True)\n",
       "      )\n",
       "      (feed_forward): Feed_Forward(\n",
       "        (layers): Sequential(\n",
       "          (0): Linear(in_features=768, out_features=3072, bias=True)\n",
       "          (1): GELU(approximate='none')\n",
       "          (2): Linear(in_features=3072, out_features=768, bias=True)\n",
       "        )\n",
       "      )\n",
       "      (norm1): LayerNorm()\n",
       "      (norm2): LayerNorm()\n",
       "      (shortcut_drop): Dropout(p=0.1, inplace=False)\n",
       "    )\n",
       "    (8): TransformerBlock(\n",
       "      (att): MultiHead_Attention(\n",
       "        (W_Query): Linear(in_features=768, out_features=768, bias=True)\n",
       "        (W_Key): Linear(in_features=768, out_features=768, bias=True)\n",
       "        (W_Value): Linear(in_features=768, out_features=768, bias=True)\n",
       "        (dropout): Dropout(p=0.1, inplace=False)\n",
       "        (out_project): Linear(in_features=768, out_features=768, bias=True)\n",
       "      )\n",
       "      (feed_forward): Feed_Forward(\n",
       "        (layers): Sequential(\n",
       "          (0): Linear(in_features=768, out_features=3072, bias=True)\n",
       "          (1): GELU(approximate='none')\n",
       "          (2): Linear(in_features=3072, out_features=768, bias=True)\n",
       "        )\n",
       "      )\n",
       "      (norm1): LayerNorm()\n",
       "      (norm2): LayerNorm()\n",
       "      (shortcut_drop): Dropout(p=0.1, inplace=False)\n",
       "    )\n",
       "    (9): TransformerBlock(\n",
       "      (att): MultiHead_Attention(\n",
       "        (W_Query): Linear(in_features=768, out_features=768, bias=True)\n",
       "        (W_Key): Linear(in_features=768, out_features=768, bias=True)\n",
       "        (W_Value): Linear(in_features=768, out_features=768, bias=True)\n",
       "        (dropout): Dropout(p=0.1, inplace=False)\n",
       "        (out_project): Linear(in_features=768, out_features=768, bias=True)\n",
       "      )\n",
       "      (feed_forward): Feed_Forward(\n",
       "        (layers): Sequential(\n",
       "          (0): Linear(in_features=768, out_features=3072, bias=True)\n",
       "          (1): GELU(approximate='none')\n",
       "          (2): Linear(in_features=3072, out_features=768, bias=True)\n",
       "        )\n",
       "      )\n",
       "      (norm1): LayerNorm()\n",
       "      (norm2): LayerNorm()\n",
       "      (shortcut_drop): Dropout(p=0.1, inplace=False)\n",
       "    )\n",
       "    (10): TransformerBlock(\n",
       "      (att): MultiHead_Attention(\n",
       "        (W_Query): Linear(in_features=768, out_features=768, bias=True)\n",
       "        (W_Key): Linear(in_features=768, out_features=768, bias=True)\n",
       "        (W_Value): Linear(in_features=768, out_features=768, bias=True)\n",
       "        (dropout): Dropout(p=0.1, inplace=False)\n",
       "        (out_project): Linear(in_features=768, out_features=768, bias=True)\n",
       "      )\n",
       "      (feed_forward): Feed_Forward(\n",
       "        (layers): Sequential(\n",
       "          (0): Linear(in_features=768, out_features=3072, bias=True)\n",
       "          (1): GELU(approximate='none')\n",
       "          (2): Linear(in_features=3072, out_features=768, bias=True)\n",
       "        )\n",
       "      )\n",
       "      (norm1): LayerNorm()\n",
       "      (norm2): LayerNorm()\n",
       "      (shortcut_drop): Dropout(p=0.1, inplace=False)\n",
       "    )\n",
       "    (11): TransformerBlock(\n",
       "      (att): MultiHead_Attention(\n",
       "        (W_Query): Linear(in_features=768, out_features=768, bias=True)\n",
       "        (W_Key): Linear(in_features=768, out_features=768, bias=True)\n",
       "        (W_Value): Linear(in_features=768, out_features=768, bias=True)\n",
       "        (dropout): Dropout(p=0.1, inplace=False)\n",
       "        (out_project): Linear(in_features=768, out_features=768, bias=True)\n",
       "      )\n",
       "      (feed_forward): Feed_Forward(\n",
       "        (layers): Sequential(\n",
       "          (0): Linear(in_features=768, out_features=3072, bias=True)\n",
       "          (1): GELU(approximate='none')\n",
       "          (2): Linear(in_features=3072, out_features=768, bias=True)\n",
       "        )\n",
       "      )\n",
       "      (norm1): LayerNorm()\n",
       "      (norm2): LayerNorm()\n",
       "      (shortcut_drop): Dropout(p=0.1, inplace=False)\n",
       "    )\n",
       "  )\n",
       "  (final_norm): LayerNorm()\n",
       "  (out_head): Linear(in_features=768, out_features=50257, bias=False)\n",
       ")"
      ]
     },
     "execution_count": 128,
     "metadata": {},
     "output_type": "execute_result"
    }
   ],
   "source": [
    "load_weights(gpt, params)\n",
    "gpt.to(device)"
   ]
  },
  {
   "cell_type": "code",
   "execution_count": 163,
   "id": "ba454747",
   "metadata": {},
   "outputs": [
    {
     "name": "stdout",
     "output_type": "stream",
     "text": [
      "Output text:\n",
      " Every effort moves you for the only that-gives, and hads. When anor/The problem at night time - at a (\n"
     ]
    }
   ],
   "source": [
    "torch.manual_seed(42)\n",
    "token_ids = generate(\n",
    "    model=gpt,\n",
    "    idx=text_to_token_ids(\"Every effort moves you\", tokenizer).to(device),\n",
    "    max_new_tok=25,\n",
    "    context_len=cfg[\"context_length\"],\n",
    "    top_k=50,\n",
    "    temp=1.5\n",
    ")\n",
    "\n",
    "print(\"Output text:\\n\", token_ids_to_text(token_ids, tokenizer))"
   ]
  }
 ],
 "metadata": {
  "kernelspec": {
   "display_name": "pyTorch",
   "language": "python",
   "name": "python3"
  },
  "language_info": {
   "codemirror_mode": {
    "name": "ipython",
    "version": 3
   },
   "file_extension": ".py",
   "mimetype": "text/x-python",
   "name": "python",
   "nbconvert_exporter": "python",
   "pygments_lexer": "ipython3",
   "version": "3.10.18"
  }
 },
 "nbformat": 4,
 "nbformat_minor": 5
}
